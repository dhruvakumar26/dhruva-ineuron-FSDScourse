{
 "cells": [
  {
   "cell_type": "markdown",
   "id": "b5d71859",
   "metadata": {},
   "source": [
    "1. Why are functions advantageous to have in your programs?"
   ]
  },
  {
   "cell_type": "markdown",
   "id": "ff4f2559",
   "metadata": {},
   "source": [
    "Functions provide code reuse and reduces duplication, making your code more efficient, modular, and easier to maintain.\n",
    "functions also provide a way to structure your code, enhance readability, and simplify testing and debugging.\n"
   ]
  },
  {
   "cell_type": "markdown",
   "id": "3d6eb5d8",
   "metadata": {},
   "source": [
    "2. When does the code in a function run: when it's specified or when it's called?"
   ]
  },
  {
   "cell_type": "markdown",
   "id": "df5180b2",
   "metadata": {},
   "source": [
    "The code within a function runs when the function is called. The function definition specifies what actions the function should perform when called."
   ]
  },
  {
   "cell_type": "markdown",
   "id": "6e50432b",
   "metadata": {},
   "source": [
    "3. What statement creates a function?"
   ]
  },
  {
   "cell_type": "markdown",
   "id": "a55b765f",
   "metadata": {},
   "source": [
    "The def statement is used to define a function.\n",
    "syntax : def function_name(parameters):\n"
   ]
  },
  {
   "cell_type": "markdown",
   "id": "79e6357f",
   "metadata": {},
   "source": [
    "4. What is the difference between a function and a function call?"
   ]
  },
  {
   "cell_type": "markdown",
   "id": "93d6df64",
   "metadata": {},
   "source": [
    "A function is the definition or declaration of a named block of code, specifying its behavior and parameters, while a function call is the actual execution of that code at a specific point in the program."
   ]
  },
  {
   "cell_type": "markdown",
   "id": "19e6a654",
   "metadata": {},
   "source": [
    "5. How many global scopes are there in a Python program? How many local scopes?"
   ]
  },
  {
   "cell_type": "markdown",
   "id": "c333e636",
   "metadata": {},
   "source": [
    "In a Python program, there is only one global scope and the number of local scopes depends on the number of function or method invocations, with each invocation creating a new local scope."
   ]
  },
  {
   "cell_type": "markdown",
   "id": "5efa69da",
   "metadata": {},
   "source": [
    "6. What happens to variables in a local scope when the function call returns?"
   ]
  },
  {
   "cell_type": "markdown",
   "id": "fb2ea24b",
   "metadata": {},
   "source": [
    "When a function call returns in Python, the local scope associated with that function is destroyed. This means that any variables defined within the local scope cease to exist, and their values are no longer accessible."
   ]
  },
  {
   "cell_type": "markdown",
   "id": "8eaa9a7d",
   "metadata": {},
   "source": [
    "7. What is the concept of a return value? Is it possible to have a return value in an expression?"
   ]
  },
  {
   "cell_type": "markdown",
   "id": "e881d5d6",
   "metadata": {},
   "source": [
    "The concept of a return value in programming refers to the value that a function can send back to the point where it was called. yes, it is possible to use a return value directly within an expression. Since a return value is simply a value, it can be utilized like any other value within an expression."
   ]
  },
  {
   "cell_type": "markdown",
   "id": "dbf56934",
   "metadata": {},
   "source": [
    "8. If a function does not have a return statement, what is the return value of a call to that function?"
   ]
  },
  {
   "cell_type": "markdown",
   "id": "c90e3190",
   "metadata": {},
   "source": [
    "If a function does not have a return statement, the return value of a call to that function is 'None'."
   ]
  },
  {
   "cell_type": "markdown",
   "id": "e597b559",
   "metadata": {},
   "source": [
    "9. How do you make a function variable refer to the global variable?"
   ]
  },
  {
   "cell_type": "markdown",
   "id": "d206a83c",
   "metadata": {},
   "source": [
    "In Python, if you want to make a function variable refer to a global variable, you can use the 'global' keyword. The 'global' keyword allows you to explicitly specify that a variable within a function should refer to the global variable with the same name, rather than creating a new local variable."
   ]
  },
  {
   "cell_type": "markdown",
   "id": "d65dd287",
   "metadata": {},
   "source": [
    "10. What is the data type of None?"
   ]
  },
  {
   "cell_type": "markdown",
   "id": "4cae022e",
   "metadata": {},
   "source": [
    "NoneType"
   ]
  },
  {
   "cell_type": "markdown",
   "id": "f83afac0",
   "metadata": {},
   "source": [
    "11. What does the sentence import areallyourpetsnamederic do?"
   ]
  },
  {
   "cell_type": "markdown",
   "id": "cdde0a61",
   "metadata": {},
   "source": [
    "That import statement imports a module named areallyourpetsnamederic. \n",
    "\n",
    "\n",
    "As this isn't a real python module. In real python programming, the sentence \"import areallyourpetsnamederic\" does not have any meaningful functionality or effect in Python. It is not a valid Python import statement and does not correspond to any existing module or package."
   ]
  },
  {
   "cell_type": "markdown",
   "id": "f1e06164",
   "metadata": {},
   "source": [
    "12. If you had a bacon() feature in a spam module, what would you call it after importing spam?"
   ]
  },
  {
   "cell_type": "markdown",
   "id": "9c95652c",
   "metadata": {},
   "source": [
    "spam.bacon()"
   ]
  },
  {
   "cell_type": "markdown",
   "id": "3d468eab",
   "metadata": {},
   "source": [
    "13. What can you do to save a programme from crashing if it encounters an error?"
   ]
  },
  {
   "cell_type": "markdown",
   "id": "e5f5a0ad",
   "metadata": {},
   "source": [
    "To save a program from crashing when it encounters an error, you can implement error handling techniques using the 'try-except' construct in Python. Error handling allows you to catch and handle exceptions, preventing them from causing the program to terminate abruptly."
   ]
  },
  {
   "cell_type": "markdown",
   "id": "1f23a9e6",
   "metadata": {},
   "source": [
    "14. What is the purpose of the try clause? What is the purpose of the except clause?"
   ]
  },
  {
   "cell_type": "markdown",
   "id": "807e3868",
   "metadata": {},
   "source": [
    "The purpose of the 'try' clause is to enclose a block of code that might potentially raise an exception. It defines a section of code where you anticipate that an exception might occur. The purpose of the 'except' clause is to specify the type of exception you want to handle and define the code to be executed if that specific exception is raised. It allows you to catch and handle specific exceptions that occurred within the associated try block. The 'try' and 'except' clauses are used together to implement error handling and exception handling mechanisms."
   ]
  },
  {
   "cell_type": "code",
   "execution_count": null,
   "id": "08ac4bbd",
   "metadata": {},
   "outputs": [],
   "source": []
  }
 ],
 "metadata": {
  "kernelspec": {
   "display_name": "Python 3 (ipykernel)",
   "language": "python",
   "name": "python3"
  },
  "language_info": {
   "codemirror_mode": {
    "name": "ipython",
    "version": 3
   },
   "file_extension": ".py",
   "mimetype": "text/x-python",
   "name": "python",
   "nbconvert_exporter": "python",
   "pygments_lexer": "ipython3",
   "version": "3.9.10"
  }
 },
 "nbformat": 4,
 "nbformat_minor": 5
}
