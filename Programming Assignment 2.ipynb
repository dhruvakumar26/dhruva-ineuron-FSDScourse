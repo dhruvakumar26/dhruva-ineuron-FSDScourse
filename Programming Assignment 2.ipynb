{
 "cells": [
  {
   "cell_type": "code",
   "execution_count": 5,
   "id": "ce3a4592",
   "metadata": {},
   "outputs": [
    {
     "name": "stdout",
     "output_type": "stream",
     "text": [
      "enter the number in kilometers1\n",
      "1.0 kilometers is 0.621 miles\n"
     ]
    }
   ],
   "source": [
    "# 1. a python program to convert kilometers to miles\n",
    "kilometers=float(input('enter the number in kilometers'))\n",
    "miles = 0.621*kilometers\n",
    "print('{} kilometers is {:.3f} miles'.format(kilometers,miles))\n"
   ]
  },
  {
   "cell_type": "code",
   "execution_count": 10,
   "id": "b0691bc3",
   "metadata": {},
   "outputs": [
    {
     "name": "stdout",
     "output_type": "stream",
     "text": [
      "enter the number in celsius37\n",
      "37.0 celsius is 98.60 fahrenheit\n"
     ]
    }
   ],
   "source": [
    "# 2. a Python program to convert Celsius to Fahrenheit\n",
    "celsius=float(input('enter the number in celsius'))\n",
    "fahrenheit= (celsius*(180/100))+32\n",
    "print('{} celsius is {:.2f} fahrenheit'.format(celsius,fahrenheit))"
   ]
  },
  {
   "cell_type": "code",
   "execution_count": 17,
   "id": "ab3bf261",
   "metadata": {},
   "outputs": [
    {
     "name": "stdout",
     "output_type": "stream",
     "text": [
      "Enter year 1994\n",
      "Enter month 4\n",
      "     April 1994\n",
      "Mo Tu We Th Fr Sa Su\n",
      "             1  2  3\n",
      " 4  5  6  7  8  9 10\n",
      "11 12 13 14 15 16 17\n",
      "18 19 20 21 22 23 24\n",
      "25 26 27 28 29 30\n",
      "\n"
     ]
    }
   ],
   "source": [
    "# 3. a Python program to display calendar\n",
    "import calendar  \n",
    "year = int(input(\"Enter year \"))  \n",
    "month = int(input(\"Enter month \"))    \n",
    "print(calendar.month(year,month))  "
   ]
  },
  {
   "cell_type": "code",
   "execution_count": 16,
   "id": "6901a9b0",
   "metadata": {},
   "outputs": [
    {
     "name": "stdout",
     "output_type": "stream",
     "text": [
      "enter value a 1\n",
      "enter value b 4\n",
      "enter value c 3\n",
      "-1.00 -3.00 are the solutions of given quadratic equation\n"
     ]
    }
   ],
   "source": [
    "# 4. a Python program to solve quadratic equation\n",
    "import math\n",
    "a = float(input('enter value a '))\n",
    "b= float(input('enter value b '))\n",
    "c = float(input('enter value c '))\n",
    "d= math.sqrt((b*b)-(4*a*c))\n",
    "solution1=((-b)+ d)/(2*a)\n",
    "solution2=((-b)- d)/(2*a)\n",
    "print('{:.2f} {:.2f} are the solutions of given quadratic equation'.format(solution1,solution2))"
   ]
  },
  {
   "cell_type": "code",
   "execution_count": 12,
   "id": "42d32119",
   "metadata": {},
   "outputs": [
    {
     "name": "stdout",
     "output_type": "stream",
     "text": [
      "enter the first numberhello\n",
      "enter the second numberworld\n",
      "a is now world\n",
      "b is now hello\n"
     ]
    }
   ],
   "source": [
    "# 5. a Python program to swap two variables without temp variable\n",
    "a = input('enter the first number ')\n",
    "b= input('enter the second number ')\n",
    "a,b=b,a\n",
    "print('a is now {}'.format(a))\n",
    "print('b is now {}'.format(b))"
   ]
  },
  {
   "cell_type": "code",
   "execution_count": null,
   "id": "74f50060",
   "metadata": {},
   "outputs": [],
   "source": []
  }
 ],
 "metadata": {
  "kernelspec": {
   "display_name": "Python 3 (ipykernel)",
   "language": "python",
   "name": "python3"
  },
  "language_info": {
   "codemirror_mode": {
    "name": "ipython",
    "version": 3
   },
   "file_extension": ".py",
   "mimetype": "text/x-python",
   "name": "python",
   "nbconvert_exporter": "python",
   "pygments_lexer": "ipython3",
   "version": "3.9.11"
  }
 },
 "nbformat": 4,
 "nbformat_minor": 5
}
