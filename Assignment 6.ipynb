{
 "cells": [
  {
   "cell_type": "markdown",
   "id": "c9681837",
   "metadata": {},
   "source": [
    "1. What are escape characters, and how do you use them?"
   ]
  },
  {
   "cell_type": "markdown",
   "id": "6901d33c",
   "metadata": {},
   "source": [
    "Escape characters are special characters in a string that are used to represent certain non-printable or reserved characters. They are represented by a backslash (\\) followed by a specific character or sequence of characters.\n",
    "\n",
    "Escape characters are used to include characters in a string that are difficult or impossible to type directly, such as newline characters, tab characters, or quotation marks. They allow you to convey special meanings or represent specific characters within a string."
   ]
  },
  {
   "cell_type": "code",
   "execution_count": 1,
   "id": "b6572d2a",
   "metadata": {},
   "outputs": [
    {
     "name": "stdout",
     "output_type": "stream",
     "text": [
      "\"Hi\"\n",
      " Hello World\n"
     ]
    }
   ],
   "source": [
    "print('\\\"Hi\"\\n Hello World')"
   ]
  },
  {
   "cell_type": "markdown",
   "id": "82b52734",
   "metadata": {},
   "source": [
    "2. What do the escape characters n and t stand for?"
   ]
  },
  {
   "cell_type": "markdown",
   "id": "f8a7b781",
   "metadata": {},
   "source": [
    "\\n Represents a newline character. When encountered in a string, it starts a new line.\n",
    "\\t Represents a tab character. It adds a horizontal tab indentation to the string."
   ]
  },
  {
   "cell_type": "markdown",
   "id": "4841c5d2",
   "metadata": {},
   "source": [
    "3. What is the way to include backslash characters in a string?"
   ]
  },
  {
   "cell_type": "raw",
   "id": "d4815f1d",
   "metadata": {},
   "source": [
    "'\\\\' Represents a backslash character (\\)"
   ]
  },
  {
   "cell_type": "code",
   "execution_count": 2,
   "id": "13dfc8dd",
   "metadata": {},
   "outputs": [
    {
     "name": "stdout",
     "output_type": "stream",
     "text": [
      "including backlash \\ character\n"
     ]
    }
   ],
   "source": [
    "print('including backlash \\\\ character')"
   ]
  },
  {
   "cell_type": "markdown",
   "id": "a9d9eed0",
   "metadata": {},
   "source": [
    "4. The string &quot;Howl&#39;s Moving Castle&quot; is a correct value. Why isn&#39;t the single quote character in the\n",
    "word Howl&#39;s not escaped a problem?"
   ]
  },
  {
   "cell_type": "markdown",
   "id": "6ef253ee",
   "metadata": {},
   "source": [
    "The single quote in Howl's is fine because you've used double quotes to mark the beginning and end of the string. like wise we can use double quotes in with single quotes"
   ]
  },
  {
   "cell_type": "markdown",
   "id": "61eff0bc",
   "metadata": {},
   "source": [
    "5. How do you write a string of newlines if you don&#39;t want to use the n character?"
   ]
  },
  {
   "cell_type": "markdown",
   "id": "5820d80f",
   "metadata": {},
   "source": [
    "Multiline strings allow us to use newlines in strings without the \\n escape character. In this approach, you can use triple quotes to enclose the string, and you can freely include line breaks within the string without the need for explicit escape characters. The resulting string will include the newlines."
   ]
  },
  {
   "cell_type": "code",
   "execution_count": 3,
   "id": "3b7ef064",
   "metadata": {},
   "outputs": [],
   "source": [
    "my_str='''first line\n",
    "second line\n",
    "third line'''"
   ]
  },
  {
   "cell_type": "code",
   "execution_count": 4,
   "id": "b88dc056",
   "metadata": {},
   "outputs": [
    {
     "data": {
      "text/plain": [
       "'first line\\nsecond line\\nthird line'"
      ]
     },
     "execution_count": 4,
     "metadata": {},
     "output_type": "execute_result"
    }
   ],
   "source": [
    "my_str"
   ]
  },
  {
   "cell_type": "markdown",
   "id": "c40e14c8",
   "metadata": {},
   "source": [
    "6. What are the values of the given expressions?\n",
    "&#39;Hello, world!&#39;[1]\n",
    "&#39;Hello, world!&#39;[0:5]\n",
    "&#39;Hello, world!&#39;[:5]\n",
    "&#39;Hello, world!&#39;[3:]"
   ]
  },
  {
   "cell_type": "code",
   "execution_count": 5,
   "id": "6a1fa660",
   "metadata": {},
   "outputs": [
    {
     "data": {
      "text/plain": [
       "'e'"
      ]
     },
     "execution_count": 5,
     "metadata": {},
     "output_type": "execute_result"
    }
   ],
   "source": [
    "'Hello, world!'[1] "
   ]
  },
  {
   "cell_type": "code",
   "execution_count": 6,
   "id": "d42cfc1f",
   "metadata": {},
   "outputs": [
    {
     "data": {
      "text/plain": [
       "'Hello'"
      ]
     },
     "execution_count": 6,
     "metadata": {},
     "output_type": "execute_result"
    }
   ],
   "source": [
    "'Hello, world!'[0:5] "
   ]
  },
  {
   "cell_type": "code",
   "execution_count": 7,
   "id": "1e10c2f8",
   "metadata": {},
   "outputs": [
    {
     "data": {
      "text/plain": [
       "'Hello'"
      ]
     },
     "execution_count": 7,
     "metadata": {},
     "output_type": "execute_result"
    }
   ],
   "source": [
    "'Hello, world!'[:5]"
   ]
  },
  {
   "cell_type": "code",
   "execution_count": 8,
   "id": "7418bbaa",
   "metadata": {},
   "outputs": [
    {
     "data": {
      "text/plain": [
       "'lo, world!'"
      ]
     },
     "execution_count": 8,
     "metadata": {},
     "output_type": "execute_result"
    }
   ],
   "source": [
    "'Hello, world!'[3:]"
   ]
  },
  {
   "cell_type": "markdown",
   "id": "50e6c609",
   "metadata": {},
   "source": [
    "7. What are the values of the following expressions?\n",
    "&#39;Hello&#39;.upper()\n",
    "&#39;Hello&#39;.upper().isupper()\n",
    "&#39;Hello&#39;.upper().lower()"
   ]
  },
  {
   "cell_type": "code",
   "execution_count": 9,
   "id": "611b2dc8",
   "metadata": {},
   "outputs": [
    {
     "data": {
      "text/plain": [
       "'HELLO'"
      ]
     },
     "execution_count": 9,
     "metadata": {},
     "output_type": "execute_result"
    }
   ],
   "source": [
    "'Hello'.upper() "
   ]
  },
  {
   "cell_type": "code",
   "execution_count": 10,
   "id": "dfaff0c1",
   "metadata": {},
   "outputs": [
    {
     "data": {
      "text/plain": [
       "True"
      ]
     },
     "execution_count": 10,
     "metadata": {},
     "output_type": "execute_result"
    }
   ],
   "source": [
    "'Hello'.upper().isupper()"
   ]
  },
  {
   "cell_type": "code",
   "execution_count": 11,
   "id": "18571c9f",
   "metadata": {},
   "outputs": [
    {
     "data": {
      "text/plain": [
       "'hello'"
      ]
     },
     "execution_count": 11,
     "metadata": {},
     "output_type": "execute_result"
    }
   ],
   "source": [
    "'Hello'.upper().lower()"
   ]
  },
  {
   "cell_type": "markdown",
   "id": "6495ba22",
   "metadata": {},
   "source": [
    "8. What are the values of the following expressions?\n",
    "&#39;Remember, remember, the fifth of July.&#39;.split()\n",
    "&#39;-&#39;.join(&#39;There can only one.&#39;.split())"
   ]
  },
  {
   "cell_type": "code",
   "execution_count": 13,
   "id": "58c6c283",
   "metadata": {},
   "outputs": [
    {
     "data": {
      "text/plain": [
       "['Remember,', 'remember,', 'the', 'fifth', 'of', 'July.']"
      ]
     },
     "execution_count": 13,
     "metadata": {},
     "output_type": "execute_result"
    }
   ],
   "source": [
    "'Remember, remember, the fifth of July.'.split() "
   ]
  },
  {
   "cell_type": "code",
   "execution_count": 14,
   "id": "2f25cfcd",
   "metadata": {},
   "outputs": [
    {
     "data": {
      "text/plain": [
       "'There-can-only-one.'"
      ]
     },
     "execution_count": 14,
     "metadata": {},
     "output_type": "execute_result"
    }
   ],
   "source": [
    "'-'.join('There can only one.'.split())"
   ]
  },
  {
   "cell_type": "markdown",
   "id": "94f050f0",
   "metadata": {},
   "source": [
    "9. What are the methods for right-justifying, left-justifying, and centering a string?"
   ]
  },
  {
   "cell_type": "markdown",
   "id": "7f4b3355",
   "metadata": {},
   "source": [
    "Right-justifying method aligns the string to the right within a field of a specified width. Any extra space on the left is filled with the fillchar.\n",
    "\n",
    "Left-justifying method aligns the string to the left within a field of a specified width. Any extra space on the right is filled with the fillchar.\n",
    "\n",
    "Centering a string method centers the string within a field of a specified width. Any extra space on both sides is filled with the fillchar."
   ]
  },
  {
   "cell_type": "code",
   "execution_count": 16,
   "id": "256b3a52",
   "metadata": {},
   "outputs": [
    {
     "data": {
      "text/plain": [
       "'***ineuron'"
      ]
     },
     "execution_count": 16,
     "metadata": {},
     "output_type": "execute_result"
    }
   ],
   "source": [
    "string = 'ineuron'\n",
    "string.rjust(10,'*')"
   ]
  },
  {
   "cell_type": "code",
   "execution_count": 17,
   "id": "86dec284",
   "metadata": {},
   "outputs": [
    {
     "data": {
      "text/plain": [
       "'ineuron***'"
      ]
     },
     "execution_count": 17,
     "metadata": {},
     "output_type": "execute_result"
    }
   ],
   "source": [
    "string.ljust(10,'*')"
   ]
  },
  {
   "cell_type": "code",
   "execution_count": 18,
   "id": "bdc79c93",
   "metadata": {},
   "outputs": [
    {
     "data": {
      "text/plain": [
       "'*ineuron**'"
      ]
     },
     "execution_count": 18,
     "metadata": {},
     "output_type": "execute_result"
    }
   ],
   "source": [
    "string.center(10,'*')"
   ]
  },
  {
   "cell_type": "markdown",
   "id": "eccfca3f",
   "metadata": {},
   "source": [
    "10. What is the best way to remove whitespace characters from the start or end?"
   ]
  },
  {
   "cell_type": "markdown",
   "id": "5bc0dde2",
   "metadata": {},
   "source": [
    "To remove whitespace characters from the start or end of a string in Python, you can use the str.strip() method. The strip() method removes leading and trailing whitespace characters from a string."
   ]
  },
  {
   "cell_type": "code",
   "execution_count": 19,
   "id": "4d48acfa",
   "metadata": {},
   "outputs": [],
   "source": [
    "text='    hi how are you.   '"
   ]
  },
  {
   "cell_type": "code",
   "execution_count": 20,
   "id": "fc85712f",
   "metadata": {},
   "outputs": [
    {
     "data": {
      "text/plain": [
       "'hi how are you.'"
      ]
     },
     "execution_count": 20,
     "metadata": {},
     "output_type": "execute_result"
    }
   ],
   "source": [
    "text.strip()"
   ]
  },
  {
   "cell_type": "code",
   "execution_count": 21,
   "id": "d7a94f4c",
   "metadata": {},
   "outputs": [
    {
     "data": {
      "text/plain": [
       "'hi how are you.   '"
      ]
     },
     "execution_count": 21,
     "metadata": {},
     "output_type": "execute_result"
    }
   ],
   "source": [
    "text.lstrip()"
   ]
  },
  {
   "cell_type": "code",
   "execution_count": 22,
   "id": "648b7072",
   "metadata": {},
   "outputs": [
    {
     "data": {
      "text/plain": [
       "'    hi how are you.'"
      ]
     },
     "execution_count": 22,
     "metadata": {},
     "output_type": "execute_result"
    }
   ],
   "source": [
    "text.rstrip()"
   ]
  },
  {
   "cell_type": "code",
   "execution_count": null,
   "id": "347c4c48",
   "metadata": {},
   "outputs": [],
   "source": []
  }
 ],
 "metadata": {
  "kernelspec": {
   "display_name": "Python 3 (ipykernel)",
   "language": "python",
   "name": "python3"
  },
  "language_info": {
   "codemirror_mode": {
    "name": "ipython",
    "version": 3
   },
   "file_extension": ".py",
   "mimetype": "text/x-python",
   "name": "python",
   "nbconvert_exporter": "python",
   "pygments_lexer": "ipython3",
   "version": "3.9.10"
  }
 },
 "nbformat": 4,
 "nbformat_minor": 5
}
