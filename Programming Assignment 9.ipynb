{
 "cells": [
  {
   "cell_type": "markdown",
   "id": "3122ae38",
   "metadata": {},
   "source": [
    "Function to calculate disarium sum of digits "
   ]
  },
  {
   "cell_type": "code",
   "execution_count": 38,
   "id": "fb325045",
   "metadata": {},
   "outputs": [],
   "source": [
    "def disarium_sum(num):\n",
    "    '''this is my function to calculate disarium summ of digits'''\n",
    "    count=len(str(num))\n",
    "    sum=0\n",
    "    while(num>0):\n",
    "        sum=sum+(num%10)**count\n",
    "        num=int(num/10)\n",
    "        count=count-1\n",
    "    return sum"
   ]
  },
  {
   "cell_type": "markdown",
   "id": "ed8ff232",
   "metadata": {},
   "source": [
    "1. Write a Python program to check if the given number is a Disarium Number?"
   ]
  },
  {
   "cell_type": "code",
   "execution_count": 36,
   "id": "b462f338",
   "metadata": {},
   "outputs": [
    {
     "name": "stdout",
     "output_type": "stream",
     "text": [
      "enter the number135\n",
      "number 135 is the disarium number\n"
     ]
    }
   ],
   "source": [
    "a = int(input('enter the number'))\n",
    "if(a==disarium_sum(a)):\n",
    "    print('number {} is the disarium number'.format(a))\n",
    "else:\n",
    "    print('number {} is not the disarium number'.format(a))"
   ]
  },
  {
   "cell_type": "markdown",
   "id": "58066d59",
   "metadata": {},
   "source": [
    "2. Write a Python program to print all disarium numbers between 1 to 100?"
   ]
  },
  {
   "cell_type": "code",
   "execution_count": 37,
   "id": "47989853",
   "metadata": {},
   "outputs": [
    {
     "name": "stdout",
     "output_type": "stream",
     "text": [
      "1\n",
      "2\n",
      "3\n",
      "4\n",
      "5\n",
      "6\n",
      "7\n",
      "8\n",
      "9\n",
      "89\n"
     ]
    }
   ],
   "source": [
    "for i in range (1,101):\n",
    "    a=disarium_sum(i)\n",
    "    if(a==i):\n",
    "        print(i)"
   ]
  },
  {
   "cell_type": "markdown",
   "id": "daa75d98",
   "metadata": {},
   "source": [
    "3. Write a Python program to check if the given number is Happy Number?"
   ]
  },
  {
   "cell_type": "code",
   "execution_count": 49,
   "id": "60f7ad0f",
   "metadata": {},
   "outputs": [],
   "source": [
    "def sum_of_digitssquare(num):\n",
    "    '''This function returns the sum of squares of digits in a number'''\n",
    "    sum=0\n",
    "    while(num!=0):\n",
    "        sum=sum+(num%10)**2\n",
    "        num=int(num/10)\n",
    "    return sum"
   ]
  },
  {
   "cell_type": "code",
   "execution_count": 73,
   "id": "c49f5a15",
   "metadata": {},
   "outputs": [
    {
     "name": "stdout",
     "output_type": "stream",
     "text": [
      "enter number82\n",
      "the number 82 is a happy number\n"
     ]
    }
   ],
   "source": [
    "num=int(input('enter number'))\n",
    "a=num\n",
    "while(a!=1 and a!=4):\n",
    "    a=sum_of_digitssquare(a)\n",
    "if(a==1):\n",
    "    print('the number {} is a happy number'.format(num))\n",
    "else:\n",
    "    print('the number {} is a happy number'.format(num))"
   ]
  },
  {
   "cell_type": "markdown",
   "id": "5b61b44d",
   "metadata": {},
   "source": [
    "4. Write a Python program to print all happy numbers between 1 and 100?"
   ]
  },
  {
   "cell_type": "code",
   "execution_count": 67,
   "id": "5ba45073",
   "metadata": {},
   "outputs": [
    {
     "name": "stdout",
     "output_type": "stream",
     "text": [
      "1\n",
      "7\n",
      "10\n",
      "13\n",
      "19\n",
      "23\n",
      "28\n",
      "31\n",
      "32\n",
      "44\n",
      "49\n",
      "68\n",
      "70\n",
      "79\n",
      "82\n",
      "86\n",
      "91\n",
      "94\n",
      "97\n",
      "100\n"
     ]
    }
   ],
   "source": [
    "for i in range (1,101):\n",
    "    a=i\n",
    "    while(a!=1 and a!=4):\n",
    "        a=sum_of_digitssquare(a)\n",
    "    if(a==1):\n",
    "        print(i)"
   ]
  },
  {
   "cell_type": "markdown",
   "id": "ff6cede5",
   "metadata": {},
   "source": [
    "5. Write a Python program to determine whether the given number is a Harshad Number?"
   ]
  },
  {
   "cell_type": "code",
   "execution_count": 74,
   "id": "346db812",
   "metadata": {},
   "outputs": [],
   "source": [
    "def sum_of_digits(num):\n",
    "    '''This function returns sum of digits in a number'''\n",
    "    sum=0\n",
    "    while(num!=0):\n",
    "        sum+=num%10\n",
    "        num=int(num/10)\n",
    "    return sum"
   ]
  },
  {
   "cell_type": "code",
   "execution_count": 76,
   "id": "e797789e",
   "metadata": {},
   "outputs": [
    {
     "name": "stdout",
     "output_type": "stream",
     "text": [
      "enter number6804\n",
      "the number 6804 is a harshad number\n"
     ]
    }
   ],
   "source": [
    "a=int(input('enter number'))\n",
    "if(a%(sum_of_digits(a))==0):\n",
    "    print('the number {} is a harshad number'.format(a))\n",
    "else:\n",
    "    print('the number {} is not a harshad number'.format(a))"
   ]
  },
  {
   "cell_type": "markdown",
   "id": "fec3d9ac",
   "metadata": {},
   "source": [
    "6. Write a Python program to print all pronic numbers between 1 and 100?"
   ]
  },
  {
   "cell_type": "code",
   "execution_count": 103,
   "id": "65b1293d",
   "metadata": {},
   "outputs": [],
   "source": [
    "def ispronic_num(num):\n",
    "    for i in range(1,num+1):\n",
    "        if(i*(i+1)==num):\n",
    "            #print('pronic number')\n",
    "            return True\n",
    "            break\n",
    "    else:\n",
    "        #print('not a pronic number')\n",
    "        return False\n",
    "     "
   ]
  },
  {
   "cell_type": "code",
   "execution_count": 104,
   "id": "e071670a",
   "metadata": {},
   "outputs": [
    {
     "name": "stdout",
     "output_type": "stream",
     "text": [
      "2\n",
      "6\n",
      "12\n",
      "20\n",
      "30\n",
      "42\n",
      "56\n",
      "72\n",
      "90\n"
     ]
    }
   ],
   "source": [
    "for i in range(1,101):\n",
    "    if ispronic_num(i):\n",
    "        print(i)"
   ]
  }
 ],
 "metadata": {
  "kernelspec": {
   "display_name": "Python 3 (ipykernel)",
   "language": "python",
   "name": "python3"
  },
  "language_info": {
   "codemirror_mode": {
    "name": "ipython",
    "version": 3
   },
   "file_extension": ".py",
   "mimetype": "text/x-python",
   "name": "python",
   "nbconvert_exporter": "python",
   "pygments_lexer": "ipython3",
   "version": "3.9.11"
  }
 },
 "nbformat": 4,
 "nbformat_minor": 5
}
