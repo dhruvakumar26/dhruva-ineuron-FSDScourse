{
 "cells": [
  {
   "cell_type": "markdown",
   "id": "9e0274dd",
   "metadata": {},
   "source": [
    "1. What does an empty dictionary&#39;s code look like?"
   ]
  },
  {
   "cell_type": "markdown",
   "id": "5053bac8",
   "metadata": {},
   "source": [
    "An empty dictionary in Python is represented by a pair of curly braces {}."
   ]
  },
  {
   "cell_type": "code",
   "execution_count": 1,
   "id": "f432f15e",
   "metadata": {},
   "outputs": [],
   "source": [
    "my_dict={}"
   ]
  },
  {
   "cell_type": "code",
   "execution_count": 2,
   "id": "85ea97d7",
   "metadata": {},
   "outputs": [
    {
     "data": {
      "text/plain": [
       "{}"
      ]
     },
     "execution_count": 2,
     "metadata": {},
     "output_type": "execute_result"
    }
   ],
   "source": [
    "my_dict"
   ]
  },
  {
   "cell_type": "code",
   "execution_count": 3,
   "id": "3a29ac3e",
   "metadata": {},
   "outputs": [],
   "source": [
    "my_dictionary=dict()"
   ]
  },
  {
   "cell_type": "code",
   "execution_count": 4,
   "id": "dd31229e",
   "metadata": {},
   "outputs": [
    {
     "data": {
      "text/plain": [
       "{}"
      ]
     },
     "execution_count": 4,
     "metadata": {},
     "output_type": "execute_result"
    }
   ],
   "source": [
    "my_dictionary"
   ]
  },
  {
   "cell_type": "markdown",
   "id": "e2d478ce",
   "metadata": {},
   "source": [
    "You can also create an empty dictionary using the dict() constructor without passing any arguments."
   ]
  },
  {
   "cell_type": "markdown",
   "id": "da9fc3ef",
   "metadata": {},
   "source": [
    "2. What is the value of a dictionary value with the key &#39;foo&#39; and the value 42?"
   ]
  },
  {
   "cell_type": "markdown",
   "id": "3a62bf4d",
   "metadata": {},
   "source": [
    "The value of a dictionary with the key 'foo' and the value 42 would be 42"
   ]
  },
  {
   "cell_type": "code",
   "execution_count": 5,
   "id": "f78bff2a",
   "metadata": {},
   "outputs": [],
   "source": [
    "my_dic={'foo':42}"
   ]
  },
  {
   "cell_type": "code",
   "execution_count": 6,
   "id": "699f4c6c",
   "metadata": {},
   "outputs": [
    {
     "data": {
      "text/plain": [
       "{'foo': 42}"
      ]
     },
     "execution_count": 6,
     "metadata": {},
     "output_type": "execute_result"
    }
   ],
   "source": [
    "my_dic"
   ]
  },
  {
   "cell_type": "code",
   "execution_count": 7,
   "id": "398ecd88",
   "metadata": {},
   "outputs": [
    {
     "data": {
      "text/plain": [
       "42"
      ]
     },
     "execution_count": 7,
     "metadata": {},
     "output_type": "execute_result"
    }
   ],
   "source": [
    "my_dic['foo']"
   ]
  },
  {
   "cell_type": "markdown",
   "id": "366dadd5",
   "metadata": {},
   "source": [
    "In Python dictionaries, values are associated with keys in a key-value pair. When you access a dictionary using a specific key, you retrieve the corresponding value. The output of the above code would be 42, indicating the value associated with the key 'foo'."
   ]
  },
  {
   "cell_type": "markdown",
   "id": "2932cf1b",
   "metadata": {},
   "source": [
    "3. What is the most significant distinction between a dictionary and a list?"
   ]
  },
  {
   "cell_type": "markdown",
   "id": "f0cb4878",
   "metadata": {},
   "source": [
    "A list is an ordered collection of elements whereas a dictionary is an unordered collection of key-value pairs."
   ]
  },
  {
   "cell_type": "markdown",
   "id": "fa94b71d",
   "metadata": {},
   "source": [
    "4. What happens if you try to access spam[&#39;foo&#39;] if spam is {&#39;bar&#39;: 100}?"
   ]
  },
  {
   "cell_type": "markdown",
   "id": "1cd698d8",
   "metadata": {},
   "source": [
    "In Python, when you attempt to access a dictionary value using a key, if the specified key is not present in the dictionary, a KeyError is raised. This error indicates that the requested key does not exist in the dictionary. If you try to access spam['foo'] and spam is { 'bar': 100 }, you will encounter a KeyError."
   ]
  },
  {
   "cell_type": "code",
   "execution_count": 8,
   "id": "be0f3f99",
   "metadata": {},
   "outputs": [],
   "source": [
    "spam ={'bar':100}"
   ]
  },
  {
   "cell_type": "code",
   "execution_count": 9,
   "id": "d30820d4",
   "metadata": {},
   "outputs": [
    {
     "ename": "KeyError",
     "evalue": "'foo'",
     "output_type": "error",
     "traceback": [
      "\u001b[0;31m---------------------------------------------------------------------------\u001b[0m",
      "\u001b[0;31mKeyError\u001b[0m                                  Traceback (most recent call last)",
      "Input \u001b[0;32mIn [9]\u001b[0m, in \u001b[0;36m<cell line: 1>\u001b[0;34m()\u001b[0m\n\u001b[0;32m----> 1\u001b[0m \u001b[43mspam\u001b[49m\u001b[43m[\u001b[49m\u001b[38;5;124;43m'\u001b[39;49m\u001b[38;5;124;43mfoo\u001b[39;49m\u001b[38;5;124;43m'\u001b[39;49m\u001b[43m]\u001b[49m\n",
      "\u001b[0;31mKeyError\u001b[0m: 'foo'"
     ]
    }
   ],
   "source": [
    "spam['foo']"
   ]
  },
  {
   "cell_type": "markdown",
   "id": "0fa65882",
   "metadata": {},
   "source": [
    "5. If a dictionary is stored in spam, what is the difference between the expressions &#39;cat&#39; in spam and\n",
    "&#39;cat&#39; in spam.keys()?"
   ]
  },
  {
   "cell_type": "markdown",
   "id": "31e9da25",
   "metadata": {},
   "source": [
    "The expression 'cat' in spam checks if the key 'cat' exists directly in the dictionary spam. It returns a Boolean value (True or False) indicating whether the key is present or not.\n",
    "\n",
    "The expression 'cat' in spam.keys() checks if the key 'cat' exists within the list of keys returned by spam.keys().\n",
    "\n",
    "In terms of functionality, both expressions can be used to check for the presence of a key in a dictionary. However, the second expression, 'cat' in spam.keys(), involves the creation of an intermediate list of keys, which may consume additional memory for large dictionaries. On the other hand, the first expression, 'cat' in spam, directly checks the dictionary itself and does not require the creation of an intermediate list."
   ]
  },
  {
   "cell_type": "markdown",
   "id": "fa7280bd",
   "metadata": {},
   "source": [
    "6. If a dictionary is stored in spam, what is the difference between the expressions &#39;cat&#39; in spam and\n",
    "&#39;cat&#39; in spam.values()?"
   ]
  },
  {
   "cell_type": "code",
   "execution_count": 20,
   "id": "11996c8f",
   "metadata": {},
   "outputs": [
    {
     "data": {
      "text/plain": [
       "False"
      ]
     },
     "execution_count": 20,
     "metadata": {},
     "output_type": "execute_result"
    }
   ],
   "source": [
    "spam={'animal':'cat'}\n",
    "'cat' in spam"
   ]
  },
  {
   "cell_type": "markdown",
   "id": "c6ad00dd",
   "metadata": {},
   "source": [
    "The expression 'cat' in spam checks if the key 'cat' exists directly in the dictionary spam. It returns a Boolean value (True or False) indicating whether the key is present or not."
   ]
  },
  {
   "cell_type": "code",
   "execution_count": 21,
   "id": "1801659b",
   "metadata": {},
   "outputs": [
    {
     "data": {
      "text/plain": [
       "True"
      ]
     },
     "execution_count": 21,
     "metadata": {},
     "output_type": "execute_result"
    }
   ],
   "source": [
    "spam={'cat':100}\n",
    "'cat' in spam"
   ]
  },
  {
   "cell_type": "markdown",
   "id": "efbd18dd",
   "metadata": {},
   "source": [
    "This expression 'cat' in spam.values() checks if the value 'cat' exists within the list-like view object returned by spam.values()."
   ]
  },
  {
   "cell_type": "code",
   "execution_count": 22,
   "id": "0fa941d6",
   "metadata": {},
   "outputs": [
    {
     "data": {
      "text/plain": [
       "True"
      ]
     },
     "execution_count": 22,
     "metadata": {},
     "output_type": "execute_result"
    }
   ],
   "source": [
    "spam={'animal':'cat'}\n",
    "'cat' in spam.values()"
   ]
  },
  {
   "cell_type": "markdown",
   "id": "e9e27297",
   "metadata": {},
   "source": [
    "7. What is a shortcut for the following code?\n",
    "if &#39;color&#39; not in spam:\n",
    "spam[&#39;color&#39;] = &#39;black&#39;"
   ]
  },
  {
   "cell_type": "markdown",
   "id": "0cad7983",
   "metadata": {},
   "source": [
    "A shortcut for the given code is to use the dict.setdefault() method. The setdefault() method allows you to set a default value for a key if it doesn't already exist in the dictionary."
   ]
  },
  {
   "cell_type": "code",
   "execution_count": 23,
   "id": "a8cb27dd",
   "metadata": {},
   "outputs": [
    {
     "data": {
      "text/plain": [
       "'black'"
      ]
     },
     "execution_count": 23,
     "metadata": {},
     "output_type": "execute_result"
    }
   ],
   "source": [
    "spam.setdefault('color','black')"
   ]
  },
  {
   "cell_type": "code",
   "execution_count": 24,
   "id": "86fbeaf4",
   "metadata": {},
   "outputs": [
    {
     "data": {
      "text/plain": [
       "{'animal': 'cat', 'color': 'black'}"
      ]
     },
     "execution_count": 24,
     "metadata": {},
     "output_type": "execute_result"
    }
   ],
   "source": [
    "spam"
   ]
  },
  {
   "cell_type": "markdown",
   "id": "6885efef",
   "metadata": {},
   "source": [
    "8. How do you &quot;pretty print&quot; dictionary values using which module and function?"
   ]
  },
  {
   "cell_type": "markdown",
   "id": "0007a6ae",
   "metadata": {},
   "source": [
    "To \"pretty print\" dictionary values in Python, you can make use of the pprint module, specifically the pprint() function. The pprint module provides a way to display complex data structures, such as dictionaries, in a more readable and visually appealing format."
   ]
  },
  {
   "cell_type": "code",
   "execution_count": 25,
   "id": "45adb1c2",
   "metadata": {},
   "outputs": [],
   "source": [
    "import pprint"
   ]
  },
  {
   "cell_type": "code",
   "execution_count": 27,
   "id": "3c2ad9a7",
   "metadata": {},
   "outputs": [
    {
     "name": "stdout",
     "output_type": "stream",
     "text": [
      "{'animal': 'cat', 'cat': 100, 'color': 'black'}\n"
     ]
    }
   ],
   "source": [
    "spam={'cat':100,'animal':'cat','color':'black'}\n",
    "pprint.pprint(spam)"
   ]
  },
  {
   "cell_type": "code",
   "execution_count": null,
   "id": "e855dbee",
   "metadata": {},
   "outputs": [],
   "source": []
  }
 ],
 "metadata": {
  "kernelspec": {
   "display_name": "Python 3 (ipykernel)",
   "language": "python",
   "name": "python3"
  },
  "language_info": {
   "codemirror_mode": {
    "name": "ipython",
    "version": 3
   },
   "file_extension": ".py",
   "mimetype": "text/x-python",
   "name": "python",
   "nbconvert_exporter": "python",
   "pygments_lexer": "ipython3",
   "version": "3.9.10"
  }
 },
 "nbformat": 4,
 "nbformat_minor": 5
}
