{
 "cells": [
  {
   "cell_type": "markdown",
   "id": "13a82380",
   "metadata": {},
   "source": [
    "Question 1:\n",
    "Write a program that calculates and prints the value according to the given formula:\n",
    "Q = Square root of [(2 * C * D)/H]\n",
    "Following are the fixed values of C and H:\n",
    "C is 50. H is 30.\n",
    "D is the variable whose values should be input to your program in a comma-separated\n",
    "sequence.\n",
    "Example\n",
    "Let us assume the following comma separated input sequence is given to the program:\n",
    "100,150,180\n",
    "The output of the program should be:\n",
    "18,22,24"
   ]
  },
  {
   "cell_type": "code",
   "execution_count": 19,
   "id": "acdfb5e8",
   "metadata": {},
   "outputs": [],
   "source": [
    "import math\n",
    "def square_root(*D):\n",
    "    C=50\n",
    "    H=30\n",
    "    print(D)\n",
    "    l=[]\n",
    "    for i in D:\n",
    "        x=(2*C*i)/H\n",
    "        Q=int(math.sqrt(x))\n",
    "        l.append(Q)\n",
    "    return l"
   ]
  },
  {
   "cell_type": "code",
   "execution_count": 20,
   "id": "49030a7e",
   "metadata": {},
   "outputs": [
    {
     "name": "stdout",
     "output_type": "stream",
     "text": [
      "(100, 150, 180)\n"
     ]
    },
    {
     "data": {
      "text/plain": [
       "[18, 22, 24]"
      ]
     },
     "execution_count": 20,
     "metadata": {},
     "output_type": "execute_result"
    }
   ],
   "source": [
    "square_root(100,150,180)"
   ]
  },
  {
   "cell_type": "markdown",
   "id": "bd6d147b",
   "metadata": {},
   "source": [
    "Question 2:\n",
    "Write a program which takes 2 digits, X,Y as input and generates a 2-dimensional array. The\n",
    "element value in the i-th row and j-th column of the array should be i*j.\n",
    "Note: i=0,1.., X-1; j=0,1,¡Y-1."
   ]
  },
  {
   "cell_type": "code",
   "execution_count": 60,
   "id": "7d9be82c",
   "metadata": {},
   "outputs": [],
   "source": [
    "def gen2Darr(X,Y):\n",
    "    l=[]\n",
    "    for i in range(0,X):\n",
    "        l1=[]\n",
    "        for j in range(0,Y):\n",
    "            l1.append(i*j)\n",
    "        l.append(l1)\n",
    "    return l"
   ]
  },
  {
   "cell_type": "code",
   "execution_count": 61,
   "id": "fd70e68f",
   "metadata": {},
   "outputs": [
    {
     "data": {
      "text/plain": [
       "[[0, 0, 0, 0, 0], [0, 1, 2, 3, 4], [0, 2, 4, 6, 8]]"
      ]
     },
     "execution_count": 61,
     "metadata": {},
     "output_type": "execute_result"
    }
   ],
   "source": [
    "gen2Darr(3,5)"
   ]
  },
  {
   "cell_type": "markdown",
   "id": "1b98aac0",
   "metadata": {},
   "source": [
    "Question 3:\n",
    "Write a program that accepts a comma separated sequence of words as input and prints the\n",
    "words in a comma-separated sequence after sorting them alphabetically.\n",
    "Suppose the following input is supplied to the program:\n",
    "without,hello,bag,world\n",
    "Then, the output should be:\n",
    "bag,hello,without,world"
   ]
  },
  {
   "cell_type": "code",
   "execution_count": 72,
   "id": "1ffe5b9c",
   "metadata": {},
   "outputs": [],
   "source": [
    "def alphaorder(*args):\n",
    "    l=[]\n",
    "    for i in sorted(args):\n",
    "        l.append(i)\n",
    "    return l"
   ]
  },
  {
   "cell_type": "code",
   "execution_count": 73,
   "id": "1e6b65f8",
   "metadata": {},
   "outputs": [
    {
     "data": {
      "text/plain": [
       "['bag', 'hello', 'without', 'world']"
      ]
     },
     "execution_count": 73,
     "metadata": {},
     "output_type": "execute_result"
    }
   ],
   "source": [
    "alphaorder('without','hello','bag','world')"
   ]
  },
  {
   "cell_type": "markdown",
   "id": "ac09a182",
   "metadata": {},
   "source": [
    "Question 4:\n",
    "Write a program that accepts a sequence of whitespace separated words as input and prints\n",
    "the words after removing all duplicate words and sorting them alphanumerically."
   ]
  },
  {
   "cell_type": "code",
   "execution_count": 134,
   "id": "911bc268",
   "metadata": {},
   "outputs": [],
   "source": [
    "def strsequence(args):\n",
    "    l=args.split(' ')\n",
    "    l=sorted(l)\n",
    "    l1=[]\n",
    "    for i in l:\n",
    "        if i not in l1:\n",
    "            l1.append(i)\n",
    "    return l1"
   ]
  },
  {
   "cell_type": "code",
   "execution_count": 135,
   "id": "543f445a",
   "metadata": {},
   "outputs": [
    {
     "data": {
      "text/plain": [
       "['again', 'and', 'hello', 'makes', 'perfect', 'practice', 'world']"
      ]
     },
     "execution_count": 135,
     "metadata": {},
     "output_type": "execute_result"
    }
   ],
   "source": [
    "strsequence('hello world and practice makes perfect and hello world again')"
   ]
  },
  {
   "cell_type": "markdown",
   "id": "e30d89d1",
   "metadata": {},
   "source": [
    "Question 5:\n",
    "Write a program that accepts a sentence and calculate the number of letters and digits."
   ]
  },
  {
   "cell_type": "code",
   "execution_count": 157,
   "id": "76887ed8",
   "metadata": {},
   "outputs": [],
   "source": [
    "def strdigcount(args):\n",
    "    count=0\n",
    "    count1=0\n",
    "    for i in args:\n",
    "        if i.isalpha():\n",
    "            count=count+1\n",
    "        elif i.isdigit():\n",
    "            count1=count1+1\n",
    "    print('LETTERS',count)\n",
    "    print('DIGITS',count1)"
   ]
  },
  {
   "cell_type": "code",
   "execution_count": 158,
   "id": "06734775",
   "metadata": {},
   "outputs": [
    {
     "name": "stdout",
     "output_type": "stream",
     "text": [
      "LETTERS 10\n",
      "DIGITS 3\n"
     ]
    }
   ],
   "source": [
    "strdigcount('hello world! 123')"
   ]
  },
  {
   "cell_type": "markdown",
   "id": "f9b04cf5",
   "metadata": {},
   "source": [
    "Question 6:\n",
    "A website requires the users to input username and password to register. Write a program to\n",
    "check the validity of password input by users.\n",
    "Following are the criteria for checking the password:\n",
    "1. At least 1 letter between [a-z]\n",
    "2. At least 1 number between [0-9]\n",
    "1. At least 1 letter between [A-Z]\n",
    "3. At least 1 character from [$#@]\n",
    "4. Minimum length of transaction password: 6\n",
    "5. Maximum length of transaction password: 12\n",
    "Your program should accept a sequence of comma separated passwords and will check them\n",
    "according to the above criteria. Passwords that match the criteria are to be printed, each\n",
    "separated by a comma."
   ]
  },
  {
   "cell_type": "code",
   "execution_count": 184,
   "id": "1230352d",
   "metadata": {},
   "outputs": [],
   "source": [
    "def passwordvalid(*args):\n",
    "    print(args)\n",
    "    a,b,c,d=0,0,0,0\n",
    "    capitalalphabets='ABCDEFGHIJKLMNOPQRSTUVWXYZ'\n",
    "    smallalphabets='abcdefghijklmnopqrstuvwxyz'\n",
    "    specialchar='$#@'\n",
    "    digits='0123456789'\n",
    "    l=[]\n",
    "    for i in args:\n",
    "        if len(i)>=6 and len(i)<=12:\n",
    "            for j in i:\n",
    "                if j in capitalalphabets:\n",
    "                    a+=1\n",
    "                if j in smallalphabets:\n",
    "                    b+=1\n",
    "                if j in specialchar:\n",
    "                    c+=1\n",
    "                if j in digits:\n",
    "                    d+=1\n",
    "        if(((a>=1 and b>=1) and (c>=1 and d>=1)) and ((a+b+c+d)==len(i))):\n",
    "            l.append(i)\n",
    "    return l      "
   ]
  },
  {
   "cell_type": "code",
   "execution_count": 185,
   "id": "5c4d098a",
   "metadata": {},
   "outputs": [
    {
     "name": "stdout",
     "output_type": "stream",
     "text": [
      "('ABd1234@1', 'a F1#,2w3E*', '2We3345')\n"
     ]
    },
    {
     "data": {
      "text/plain": [
       "['ABd1234@1']"
      ]
     },
     "execution_count": 185,
     "metadata": {},
     "output_type": "execute_result"
    }
   ],
   "source": [
    "passwordvalid('ABd1234@1','a F1#,2w3E*','2We3345')"
   ]
  },
  {
   "cell_type": "code",
   "execution_count": null,
   "id": "d1a950ac",
   "metadata": {},
   "outputs": [],
   "source": []
  }
 ],
 "metadata": {
  "kernelspec": {
   "display_name": "Python 3 (ipykernel)",
   "language": "python",
   "name": "python3"
  },
  "language_info": {
   "codemirror_mode": {
    "name": "ipython",
    "version": 3
   },
   "file_extension": ".py",
   "mimetype": "text/x-python",
   "name": "python",
   "nbconvert_exporter": "python",
   "pygments_lexer": "ipython3",
   "version": "3.9.10"
  }
 },
 "nbformat": 4,
 "nbformat_minor": 5
}
