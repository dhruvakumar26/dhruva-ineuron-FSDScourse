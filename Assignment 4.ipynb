{
 "cells": [
  {
   "cell_type": "markdown",
   "id": "a7f05f77",
   "metadata": {},
   "source": [
    "1. What exactly is []?"
   ]
  },
  {
   "cell_type": "markdown",
   "id": "c6863101",
   "metadata": {},
   "source": [
    "[] represents an empty list i.e., a list with zero items."
   ]
  },
  {
   "cell_type": "markdown",
   "id": "42b2edc7",
   "metadata": {},
   "source": [
    "2. In a list of values stored in a variable called spam, how would you assign the value &#39;hello&#39; as the\n",
    "third value? (Assume [2, 4, 6, 8, 10] are in spam.)"
   ]
  },
  {
   "cell_type": "code",
   "execution_count": 1,
   "id": "4aba99d7",
   "metadata": {},
   "outputs": [],
   "source": [
    "spam = [2,4,6,8,10]"
   ]
  },
  {
   "cell_type": "code",
   "execution_count": 2,
   "id": "60e65af4",
   "metadata": {},
   "outputs": [],
   "source": [
    "spam[2]='hello'"
   ]
  },
  {
   "cell_type": "code",
   "execution_count": 3,
   "id": "a815a0ea",
   "metadata": {},
   "outputs": [
    {
     "data": {
      "text/plain": [
       "[2, 4, 'hello', 8, 10]"
      ]
     },
     "execution_count": 3,
     "metadata": {},
     "output_type": "execute_result"
    }
   ],
   "source": [
    "spam"
   ]
  },
  {
   "cell_type": "markdown",
   "id": "570fb995",
   "metadata": {},
   "source": [
    "3. What is the value of spam[int(int(&#39;3&#39; * 2) / 11)]?"
   ]
  },
  {
   "cell_type": "markdown",
   "id": "d0c23bb4",
   "metadata": {},
   "source": [
    "'3'*2 results in the string '33'. int('33') converts the string '33' to an integer value 33. int(33/11) performs integer division results in spam[3] which accesses the item at index 3 in the spam object."
   ]
  },
  {
   "cell_type": "code",
   "execution_count": 4,
   "id": "52c3d2be",
   "metadata": {},
   "outputs": [
    {
     "data": {
      "text/plain": [
       "[2, 4, 'hello', 8, 10]"
      ]
     },
     "execution_count": 4,
     "metadata": {},
     "output_type": "execute_result"
    }
   ],
   "source": [
    "spam"
   ]
  },
  {
   "cell_type": "code",
   "execution_count": 5,
   "id": "487af57a",
   "metadata": {},
   "outputs": [
    {
     "data": {
      "text/plain": [
       "8"
      ]
     },
     "execution_count": 5,
     "metadata": {},
     "output_type": "execute_result"
    }
   ],
   "source": [
    "spam[int(int('3'*2)/11)]"
   ]
  },
  {
   "cell_type": "markdown",
   "id": "70526f64",
   "metadata": {},
   "source": [
    "4. What is the value of spam[-1]?"
   ]
  },
  {
   "cell_type": "code",
   "execution_count": 6,
   "id": "09b2ab62",
   "metadata": {},
   "outputs": [
    {
     "data": {
      "text/plain": [
       "[2, 4, 'hello', 8, 10]"
      ]
     },
     "execution_count": 6,
     "metadata": {},
     "output_type": "execute_result"
    }
   ],
   "source": [
    "spam"
   ]
  },
  {
   "cell_type": "code",
   "execution_count": 7,
   "id": "cefb1d9b",
   "metadata": {},
   "outputs": [
    {
     "data": {
      "text/plain": [
       "10"
      ]
     },
     "execution_count": 7,
     "metadata": {},
     "output_type": "execute_result"
    }
   ],
   "source": [
    "spam[-1]"
   ]
  },
  {
   "cell_type": "markdown",
   "id": "8613cfd5",
   "metadata": {},
   "source": [
    "spam[-1] will retrieve the last item on the list."
   ]
  },
  {
   "cell_type": "markdown",
   "id": "4ad39465",
   "metadata": {},
   "source": [
    "5. What is the value of spam[:2]?"
   ]
  },
  {
   "cell_type": "code",
   "execution_count": 8,
   "id": "3817403d",
   "metadata": {},
   "outputs": [
    {
     "data": {
      "text/plain": [
       "[2, 4]"
      ]
     },
     "execution_count": 8,
     "metadata": {},
     "output_type": "execute_result"
    }
   ],
   "source": [
    "spam[:2]"
   ]
  },
  {
   "cell_type": "markdown",
   "id": "ee16c666",
   "metadata": {},
   "source": [
    "spam[:2] represents a slice of the spam object starting from the beginning (index 0) up to, but not including, index 2. It will retrieve a sublist containing the first two elements of the list."
   ]
  },
  {
   "cell_type": "markdown",
   "id": "b6eff8b6",
   "metadata": {},
   "source": [
    "Let&#39;s pretend bacon has the list [3.14, &#39;cat,&#39; 11, &#39;cat,&#39; True] for the next three questions.\n",
    "6. What is the value of bacon.index(&#39;cat&#39;)?"
   ]
  },
  {
   "cell_type": "code",
   "execution_count": 9,
   "id": "4accd739",
   "metadata": {},
   "outputs": [],
   "source": [
    "bacon = [3.14, 'cat', 11,'cat',True]"
   ]
  },
  {
   "cell_type": "markdown",
   "id": "5a09850e",
   "metadata": {},
   "source": [
    "The index() method returns the index of the first occurrence of the specified element in the list. In this case, calling bacon.index('cat') will return the index of the first occurrence of the string 'cat' in the list bacon. Therefore, the value of bacon.index('cat') is 1."
   ]
  },
  {
   "cell_type": "code",
   "execution_count": 10,
   "id": "cab3ced1",
   "metadata": {},
   "outputs": [
    {
     "data": {
      "text/plain": [
       "1"
      ]
     },
     "execution_count": 10,
     "metadata": {},
     "output_type": "execute_result"
    }
   ],
   "source": [
    "bacon.index('cat')"
   ]
  },
  {
   "cell_type": "markdown",
   "id": "47ff8246",
   "metadata": {},
   "source": [
    "7. How does bacon.append(99) change the look of the list value in bacon?"
   ]
  },
  {
   "cell_type": "markdown",
   "id": "b3fc8f18",
   "metadata": {},
   "source": [
    "The bacon.append(99) operation appends the value 99 to the end of the list bacon. It modifies the list in place by adding a new element to the existing list."
   ]
  },
  {
   "cell_type": "code",
   "execution_count": 11,
   "id": "b32945f3",
   "metadata": {},
   "outputs": [],
   "source": [
    "bacon.append(99)"
   ]
  },
  {
   "cell_type": "code",
   "execution_count": 12,
   "id": "e0b8c2bb",
   "metadata": {},
   "outputs": [
    {
     "data": {
      "text/plain": [
       "[3.14, 'cat', 11, 'cat', True, 99]"
      ]
     },
     "execution_count": 12,
     "metadata": {},
     "output_type": "execute_result"
    }
   ],
   "source": [
    "bacon"
   ]
  },
  {
   "cell_type": "markdown",
   "id": "dc8085ff",
   "metadata": {},
   "source": [
    "8. How does bacon.remove(&#39;cat&#39;) change the look of the list in bacon?"
   ]
  },
  {
   "cell_type": "markdown",
   "id": "858d8201",
   "metadata": {},
   "source": [
    "The bacon.remove('cat') operation removes the first occurrence of the element 'cat' from the list bacon. It modifies the list in place by removing the specified element."
   ]
  },
  {
   "cell_type": "code",
   "execution_count": 13,
   "id": "29896ee5",
   "metadata": {},
   "outputs": [],
   "source": [
    "bacon.remove('cat')"
   ]
  },
  {
   "cell_type": "code",
   "execution_count": 14,
   "id": "a209148e",
   "metadata": {},
   "outputs": [
    {
     "data": {
      "text/plain": [
       "[3.14, 11, 'cat', True, 99]"
      ]
     },
     "execution_count": 14,
     "metadata": {},
     "output_type": "execute_result"
    }
   ],
   "source": [
    "bacon"
   ]
  },
  {
   "cell_type": "markdown",
   "id": "028d8bca",
   "metadata": {},
   "source": [
    "9. What are the list concatenation and list replication operators?"
   ]
  },
  {
   "cell_type": "markdown",
   "id": "c11d2bb4",
   "metadata": {},
   "source": [
    "In Python, the list concatenation operator is '+', and the list replication operator is *. "
   ]
  },
  {
   "cell_type": "markdown",
   "id": "b52c2998",
   "metadata": {},
   "source": [
    "10. What is difference between the list methods append() and insert()?"
   ]
  },
  {
   "cell_type": "markdown",
   "id": "358dd227",
   "metadata": {},
   "source": [
    "The append() method is used to add an element to the end of a list. It takes a single argument, which is the element to be added, and it modifies the list in place by appending the element to the end.\n",
    "\n",
    "The insert() method is used to add an element at a specific index in a list. It takes two arguments: the index where the element should be inserted and the element itself. It modifies the list in place by inserting the element at the specified index, shifting the existing elements to accommodate the new element."
   ]
  },
  {
   "cell_type": "markdown",
   "id": "6e6346fd",
   "metadata": {},
   "source": [
    "11. What are the two methods for removing items from a list?"
   ]
  },
  {
   "cell_type": "markdown",
   "id": "0ff144b9",
   "metadata": {},
   "source": [
    "remove() and pop()"
   ]
  },
  {
   "cell_type": "markdown",
   "id": "5fcbd462",
   "metadata": {},
   "source": [
    "12. Describe how list values and string values are identical."
   ]
  },
  {
   "cell_type": "markdown",
   "id": "3cb4484c",
   "metadata": {},
   "source": [
    "Both lists and strings are sequence types in Python, meaning they can store multiple values in an ordered manner. They allow indexing and slicing operations to access individual elements or subsequences within them. Both lists and strings can be iterated over using loops, such as for loops, to access each element or character sequentially and also be concatenated or replicated, and be used with the in and not in operators."
   ]
  },
  {
   "cell_type": "markdown",
   "id": "dc182a08",
   "metadata": {},
   "source": [
    "13. What's the difference between tuples and lists?"
   ]
  },
  {
   "cell_type": "markdown",
   "id": "fe011422",
   "metadata": {},
   "source": [
    "Tuples are defined using parentheses (), while lists are defined using square brackets []. The most significant difference is that tuples are immutable, while lists are mutable. Once a tuple is created, its elements cannot be modified or reassigned. In contrast, list elements can be modified, added, or removed after the list is created."
   ]
  },
  {
   "cell_type": "markdown",
   "id": "77cf0c89",
   "metadata": {},
   "source": [
    "14. How do you type a tuple value that only contains the integer 42?"
   ]
  },
  {
   "cell_type": "code",
   "execution_count": 16,
   "id": "3ea184f5",
   "metadata": {},
   "outputs": [],
   "source": [
    "tuple_example=(42,)"
   ]
  },
  {
   "cell_type": "code",
   "execution_count": 17,
   "id": "2760e36a",
   "metadata": {},
   "outputs": [
    {
     "data": {
      "text/plain": [
       "(42,)"
      ]
     },
     "execution_count": 17,
     "metadata": {},
     "output_type": "execute_result"
    }
   ],
   "source": [
    "tuple_example"
   ]
  },
  {
   "cell_type": "code",
   "execution_count": 18,
   "id": "54bf8fb6",
   "metadata": {},
   "outputs": [],
   "source": [
    "t=(42)"
   ]
  },
  {
   "cell_type": "code",
   "execution_count": 19,
   "id": "a454bf98",
   "metadata": {},
   "outputs": [
    {
     "data": {
      "text/plain": [
       "42"
      ]
     },
     "execution_count": 19,
     "metadata": {},
     "output_type": "execute_result"
    }
   ],
   "source": [
    "t"
   ]
  },
  {
   "cell_type": "markdown",
   "id": "70cfe134",
   "metadata": {},
   "source": [
    "The comma after the value 42 is important to indicate that it is a tuple with a single element. Without the comma, Python would interpret it as just the integer value 42 without considering it as a tuple."
   ]
  },
  {
   "cell_type": "code",
   "execution_count": 21,
   "id": "65b8264c",
   "metadata": {},
   "outputs": [
    {
     "data": {
      "text/plain": [
       "int"
      ]
     },
     "execution_count": 21,
     "metadata": {},
     "output_type": "execute_result"
    }
   ],
   "source": [
    "type(t)"
   ]
  },
  {
   "cell_type": "code",
   "execution_count": 22,
   "id": "02ddb3ae",
   "metadata": {},
   "outputs": [
    {
     "data": {
      "text/plain": [
       "tuple"
      ]
     },
     "execution_count": 22,
     "metadata": {},
     "output_type": "execute_result"
    }
   ],
   "source": [
    "type(tuple_example)"
   ]
  },
  {
   "cell_type": "markdown",
   "id": "2b09ada6",
   "metadata": {},
   "source": [
    "15. How do you get a list value's tuple form? How do you get a tuple value's list form?"
   ]
  },
  {
   "cell_type": "markdown",
   "id": "2d64dca7",
   "metadata": {},
   "source": [
    "To convert a list to a tuple, you can use the tuple() function.\n",
    "\n",
    "To convert a tuple to a list, you can use the list() function. "
   ]
  },
  {
   "cell_type": "markdown",
   "id": "0e582a3e",
   "metadata": {},
   "source": [
    "16. Variables that &quot;contain&quot; list values are not necessarily lists themselves. Instead, what do they\n",
    "contain?"
   ]
  },
  {
   "cell_type": "markdown",
   "id": "69e84229",
   "metadata": {},
   "source": [
    "They actually hold references to the memory locations where the list objects reside i.e., they contain references to list values. This means that the variable holds the memory address where the list is stored, rather than the list's actual contents."
   ]
  },
  {
   "cell_type": "markdown",
   "id": "7de729be",
   "metadata": {},
   "source": [
    "17. How do you distinguish between copy.copy() and copy.deepcopy()?"
   ]
  },
  {
   "cell_type": "markdown",
   "id": "10bc256c",
   "metadata": {},
   "source": [
    "The copy.copy() method performs a shallow copy of an object, while the copy.deepcopy() method performs a deep copy of an object i.e., copy.copy() creates a new object with references to the same nested objects, while copy.deepcopy() creates a new object with completely independent copies of all nested objects."
   ]
  },
  {
   "cell_type": "code",
   "execution_count": null,
   "id": "8d16df77",
   "metadata": {},
   "outputs": [],
   "source": []
  }
 ],
 "metadata": {
  "kernelspec": {
   "display_name": "Python 3 (ipykernel)",
   "language": "python",
   "name": "python3"
  },
  "language_info": {
   "codemirror_mode": {
    "name": "ipython",
    "version": 3
   },
   "file_extension": ".py",
   "mimetype": "text/x-python",
   "name": "python",
   "nbconvert_exporter": "python",
   "pygments_lexer": "ipython3",
   "version": "3.9.10"
  }
 },
 "nbformat": 4,
 "nbformat_minor": 5
}
