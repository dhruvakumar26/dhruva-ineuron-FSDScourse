{
 "cells": [
  {
   "cell_type": "markdown",
   "id": "871d3d5b",
   "metadata": {},
   "source": [
    "1. Write a Python Program to Display Fibonacci Sequence Using Recursion?"
   ]
  },
  {
   "cell_type": "code",
   "execution_count": 16,
   "id": "5103587c",
   "metadata": {},
   "outputs": [
    {
     "name": "stdout",
     "output_type": "stream",
     "text": [
      "enter the number of fibonacci sequences to display6\n",
      "0\n",
      "1\n",
      "1\n",
      "2\n",
      "3\n",
      "5\n"
     ]
    }
   ],
   "source": [
    "def fib_seq(n):\n",
    "    if(n<=1):\n",
    "        return n\n",
    "    else:\n",
    "        return (fib_seq(n-1)+fib_seq(n-2))\n",
    "num = int(input('enter the number of fibonacci sequences to display'))\n",
    "if(num<=0):\n",
    "    print('please enter a valid positve number')\n",
    "else:\n",
    "    for i in range(num):\n",
    "        print(fib_seq(i))   "
   ]
  },
  {
   "cell_type": "markdown",
   "id": "c6e5c793",
   "metadata": {},
   "source": [
    "2. Write a Python Program to Find Factorial of Number Using Recursion?"
   ]
  },
  {
   "cell_type": "code",
   "execution_count": 48,
   "id": "c7a4e039",
   "metadata": {},
   "outputs": [
    {
     "name": "stdout",
     "output_type": "stream",
     "text": [
      "enter the number6\n",
      "the factorial of number 6 is 720\n"
     ]
    }
   ],
   "source": [
    "def factorial(n):\n",
    "    if(n==1 or n==0):\n",
    "        return 1\n",
    "    else:\n",
    "        return n*factorial(n-1)\n",
    "num=int(input('enter the number'))\n",
    "if(num<0):\n",
    "    print('please enter a valid positive number')\n",
    "else:\n",
    "    print('the factorial of number {} is'.format(num),factorial(num))       "
   ]
  },
  {
   "cell_type": "markdown",
   "id": "d09a7a43",
   "metadata": {},
   "source": [
    "3. Write a Python Program to calculate your Body Mass Index?"
   ]
  },
  {
   "cell_type": "code",
   "execution_count": 45,
   "id": "f2926aab",
   "metadata": {},
   "outputs": [
    {
     "name": "stdout",
     "output_type": "stream",
     "text": [
      "please enter your height in centimeters180\n",
      "please enter your weight in kilograms77.4\n",
      "your body mass index is  23.88888888888889\n",
      "you are normal weight\n"
     ]
    }
   ],
   "source": [
    "def BMI(height,weight):\n",
    "    bmi=weight/(height*0.01)**2\n",
    "    print('your body mass index is ',bmi)\n",
    "    if(bmi>0):\n",
    "        if(bmi<=18.5):\n",
    "            print('You are underweight')\n",
    "        elif(bmi>18.5 and bmi<=24.9):\n",
    "            print('you are normal weight')\n",
    "        elif(bmi>24.9 and bmi<=29.9):\n",
    "            print('You are overweight')\n",
    "        else: \n",
    "            print('You have obesity')\n",
    "    else:\n",
    "        print('invalid details')\n",
    "height=float(input('please enter your height in centimeters'))\n",
    "weight=float(input('please enter your weight in kilograms'))\n",
    "BMI(height,weight)"
   ]
  },
  {
   "cell_type": "markdown",
   "id": "dc2e8dc3",
   "metadata": {},
   "source": [
    "4. Write a Python Program to calculate the natural logarithm of any number?"
   ]
  },
  {
   "cell_type": "code",
   "execution_count": 60,
   "id": "c0c15f94",
   "metadata": {},
   "outputs": [
    {
     "name": "stdout",
     "output_type": "stream",
     "text": [
      "enter the number14\n",
      "enter the logarithm base number2.718\n",
      "the logarithm of number 14.0 with base 2.718 is  2.6393309867246715\n"
     ]
    }
   ],
   "source": [
    "import math\n",
    "def find_log(n,base):\n",
    "    return (math.log(n,base))\n",
    "\n",
    "num=float(input('enter the number'))\n",
    "base=float(input('enter the logarithm base number'))\n",
    "print ('the logarithm of number {} with base {} is '.format(num,base), find_log(num,base))"
   ]
  },
  {
   "cell_type": "markdown",
   "id": "91a313b8",
   "metadata": {},
   "source": [
    "5. Write a Python Program for cube sum of first n natural numbers?"
   ]
  },
  {
   "cell_type": "code",
   "execution_count": 52,
   "id": "b735ce31",
   "metadata": {},
   "outputs": [
    {
     "name": "stdout",
     "output_type": "stream",
     "text": [
      "enter the number10\n",
      "the cube sum of the 10 natural numbers is 3025\n"
     ]
    }
   ],
   "source": [
    "def cubesum(n):\n",
    "    sum=0\n",
    "    if(n<0):\n",
    "        print('enter a valid positive number')\n",
    "    else:\n",
    "        while(n>0):\n",
    "            sum +=n**3\n",
    "            n=n-1\n",
    "    return sum\n",
    "num = int(input('enter the number'))\n",
    "print('the cube sum of the {} natural numbers is'.format(num),cubesum(num))"
   ]
  },
  {
   "cell_type": "code",
   "execution_count": 53,
   "id": "f796d6ad",
   "metadata": {},
   "outputs": [
    {
     "name": "stdout",
     "output_type": "stream",
     "text": [
      "enter the number10\n",
      "the cube sum of the 10 natural numbers is 3025\n"
     ]
    }
   ],
   "source": [
    "def cube_sum(n):\n",
    "    return ((n*n*(n+1)*(n+1))/4)\n",
    "num = int(input('enter the number'))\n",
    "print('the cube sum of the {} natural numbers is'.format(num),cubesum(num))"
   ]
  },
  {
   "cell_type": "code",
   "execution_count": null,
   "id": "f26169a5",
   "metadata": {},
   "outputs": [],
   "source": []
  }
 ],
 "metadata": {
  "kernelspec": {
   "display_name": "Python 3 (ipykernel)",
   "language": "python",
   "name": "python3"
  },
  "language_info": {
   "codemirror_mode": {
    "name": "ipython",
    "version": 3
   },
   "file_extension": ".py",
   "mimetype": "text/x-python",
   "name": "python",
   "nbconvert_exporter": "python",
   "pygments_lexer": "ipython3",
   "version": "3.9.10"
  }
 },
 "nbformat": 4,
 "nbformat_minor": 5
}
