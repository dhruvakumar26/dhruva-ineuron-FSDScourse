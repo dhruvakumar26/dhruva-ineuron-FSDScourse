{
 "cells": [
  {
   "cell_type": "markdown",
   "id": "f11cc887",
   "metadata": {},
   "source": [
    "1. What are the two values of the Boolean data type? How do you write them?\n",
    "\n",
    "Ans) True and False starts with capital T and F are the two valid values of the Boolean data type otherwise it shows an error. So, First letters of those two values should be capital(Uppercase) and rest of the following letters should be in lowercase. "
   ]
  },
  {
   "cell_type": "markdown",
   "id": "2fa68445",
   "metadata": {},
   "source": [
    "2. What are the three different types of Boolean operators?\n",
    "\n",
    "Ans) AND , OR , NOT"
   ]
  },
  {
   "cell_type": "markdown",
   "id": "98707a27",
   "metadata": {},
   "source": [
    "3. Make a list of each Boolean operator's truth tables (i.e. every possible combination of Boolean\n",
    "   values for the operator and what it evaluate ).\n",
    "   \n",
    "ANS) for AND operator \n",
    "     \n",
    "     True and True => True \n",
    "     \n",
    "     True and False => False\n",
    "     \n",
    "     False and True => False\n",
    "     \n",
    "     False and False => False\n",
    "     \n",
    "     For OR Operator\n",
    "     \n",
    "     True or True => True \n",
    "     \n",
    "     True or False => True\n",
    "     \n",
    "     False or True => True\n",
    "     \n",
    "     False or False => False\n",
    "     \n",
    "     For NOT operator\n",
    "     \n",
    "     not True => False\n",
    "     \n",
    "     not False => True"
   ]
  },
  {
   "cell_type": "markdown",
   "id": "4eaf2961",
   "metadata": {},
   "source": [
    "4. What are the values of the following expressions?\n",
    "\n",
    "(5 > 4) and (3 == 5)                     => False\n",
    "\n",
    "not (5 > 4)                              => False\n",
    "\n",
    "(5 > 4) or (3 == 5)                      => True\n",
    "\n",
    "not ((5 > 4) or (3 == 5))                => False\n",
    "\n",
    "(True and True) and (True == False)      => False\n",
    "\n",
    "(not False) or (not True)                => True"
   ]
  },
  {
   "cell_type": "markdown",
   "id": "28395244",
   "metadata": {},
   "source": [
    "5. What are the six comparison operators?\n",
    "\n",
    "Ans) Less than ( < )\n",
    "\n",
    "     Less than or equal to ( <= )\n",
    "     \n",
    "     Greater than ( > )\n",
    "     \n",
    "     Greater than or equal to ( >= )\n",
    "\n",
    "     Equal to ( == ) \n",
    "     \n",
    "     Not equal to ( != )"
   ]
  },
  {
   "cell_type": "markdown",
   "id": "067ba9bd",
   "metadata": {},
   "source": [
    "6. How do you tell the difference between the equal to and assignment operators?Describe a\n",
    "   condition and when you would use one.\n",
    "   \n",
    "Ans) The “=” is an assignment operator that is used to assign the value on the right to the variable on the left. The '==' operator checks whether the two given operands are equal or not. If so, it returns true. Otherwise it returns false. \n",
    "\n",
    "Conditional statements help you to make a decision based on certain conditions. These conditions are specified by a set of conditional statements having boolean expressions which are evaluated to a boolean value of true or false."
   ]
  },
  {
   "cell_type": "markdown",
   "id": "1c5cf9f3",
   "metadata": {},
   "source": [
    "7. Identify the three blocks in this code:\n",
    "\n",
    "spam = 0\n",
    "\n",
    "if spam == 10:\n",
    "\n",
    "    print('eggs')\n",
    "    \n",
    "    if spam > 5:\n",
    "    \n",
    "        print('bacon')\n",
    "        \n",
    "    else:\n",
    "    \n",
    "        print('ham')\n",
    "        \n",
    "    print('spam')\n",
    "    \n",
    "print('spam')\n",
    "\n",
    "Ans)The three blocks are everything inside the if statement and the lines  print('bacon') and print('ham').\n",
    "\n",
    "print('eggs')\n",
    "\n",
    "if spam > 5:\n",
    "\n",
    "    print('bacon')\n",
    "\n",
    "else:\n",
    "\n",
    "    \n",
    "    print('ham')\n",
    "    \n",
    "print('spam')"
   ]
  },
  {
   "cell_type": "markdown",
   "id": "823c7140",
   "metadata": {},
   "source": [
    "8. Write code that prints Hello if 1 is stored in spam, prints Howdy if 2 is stored in spam, and prints\n",
    "   Greetings! if anything else is stored in spam.\n",
    "   \n",
    "if spam==1:\n",
    "    \n",
    "    print('Hello')\n",
    "\n",
    "elif spam==2:\n",
    "    \n",
    "    print('Howdy')\n",
    "\n",
    "else:\n",
    "    \n",
    "    print('Greetings!')\n",
    "   \n",
    "   "
   ]
  },
  {
   "cell_type": "markdown",
   "id": "15b7daff",
   "metadata": {},
   "source": [
    "9. If your programme is stuck in an endless loop, what keys you’ll press?\n",
    "\n",
    "Ans)  You can stop an endless loop with CTRL + C keys."
   ]
  },
  {
   "cell_type": "markdown",
   "id": "c17bf67e",
   "metadata": {},
   "source": [
    "10. How can you tell the difference between break and continue?\n",
    "\n",
    "Ans) The main difference between both the break and continue statements is that when break keyword comes, it terminates the execution of the current loop and passes the control over the next loop or main body, whereas when continue keyword is encountered, it skips the current iteration and executes the very next iteration in the loop."
   ]
  },
  {
   "cell_type": "markdown",
   "id": "7d659907",
   "metadata": {},
   "source": [
    "11. In a for loop, what is the difference between range(10), range(0, 10), and range(0, 10, 1)?\n",
    "\n",
    "Ans) When user call range(10), user will get a series of numbers that starts at 0 and includes every whole number up to 10, but not including 10, the number 10 that user have provided as the stop.\n",
    "\n",
    "When user call range(0,10), user get to decide not only where the series of numbers stops but also where it starts, so here , user explicitly tells the loop to start at 0 and generates the series of numbers upto 10, but not including 10.\n",
    "\n",
    "When the user call range(0,10,1), the user can choose not only where the series of numbers will start and stop but also how big the difference will be between one number and the next. If the user doesn’t provide a step, then range() will automatically behave as if the step is 1. So here, user explicitly tells the loop to increase the variable by 1 step on each iteration."
   ]
  },
  {
   "cell_type": "markdown",
   "id": "2b43d33a",
   "metadata": {},
   "source": [
    "12. Write a short program that prints the numbers 1 to 10 using a for loop. Then write an equivalent\n",
    "    program that prints the numbers 1 to 10 using a while loop."
   ]
  },
  {
   "cell_type": "code",
   "execution_count": 8,
   "id": "964cc79d",
   "metadata": {},
   "outputs": [
    {
     "name": "stdout",
     "output_type": "stream",
     "text": [
      "1\n",
      "2\n",
      "3\n",
      "4\n",
      "5\n",
      "6\n",
      "7\n",
      "8\n",
      "9\n",
      "10\n"
     ]
    }
   ],
   "source": [
    "for i in range(1,11):\n",
    "    print(i)\n"
   ]
  },
  {
   "cell_type": "code",
   "execution_count": 11,
   "id": "19f24c65",
   "metadata": {},
   "outputs": [
    {
     "name": "stdout",
     "output_type": "stream",
     "text": [
      "1\n",
      "2\n",
      "3\n",
      "4\n",
      "5\n",
      "6\n",
      "7\n",
      "8\n",
      "9\n",
      "10\n"
     ]
    }
   ],
   "source": [
    "i=1\n",
    "while i<11:\n",
    "    print(i)\n",
    "    i=i+1"
   ]
  },
  {
   "cell_type": "markdown",
   "id": "9da83e0c",
   "metadata": {},
   "source": [
    "13. If you had a function named bacon() inside a module named spam, how would you call it after\n",
    "    importing spam?\n",
    "    \n",
    "Ans) The function can be called with spam.bacon()"
   ]
  },
  {
   "cell_type": "code",
   "execution_count": null,
   "id": "18f6caaa",
   "metadata": {},
   "outputs": [],
   "source": []
  },
  {
   "cell_type": "code",
   "execution_count": null,
   "id": "64ea714a",
   "metadata": {},
   "outputs": [],
   "source": []
  }
 ],
 "metadata": {
  "kernelspec": {
   "display_name": "Python 3 (ipykernel)",
   "language": "python",
   "name": "python3"
  },
  "language_info": {
   "codemirror_mode": {
    "name": "ipython",
    "version": 3
   },
   "file_extension": ".py",
   "mimetype": "text/x-python",
   "name": "python",
   "nbconvert_exporter": "python",
   "pygments_lexer": "ipython3",
   "version": "3.9.10"
  }
 },
 "nbformat": 4,
 "nbformat_minor": 5
}
