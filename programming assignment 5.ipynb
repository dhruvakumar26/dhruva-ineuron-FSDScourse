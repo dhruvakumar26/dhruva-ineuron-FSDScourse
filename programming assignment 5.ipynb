{
 "cells": [
  {
   "cell_type": "markdown",
   "id": "887ee3e8",
   "metadata": {},
   "source": [
    "1. Write a Python Program to Find LCM?"
   ]
  },
  {
   "cell_type": "code",
   "execution_count": 1,
   "id": "b9b6172d",
   "metadata": {},
   "outputs": [
    {
     "name": "stdout",
     "output_type": "stream",
     "text": [
      "enter the first number6\n",
      "enter the second number12\n",
      "the lcd of two numbers 6 and 12 is 12.0\n"
     ]
    }
   ],
   "source": [
    "import math\n",
    "a=int(input('enter the first number'))\n",
    "b=int(input('enter the second number'))\n",
    "c= (a*b)/math.gcd(a,b)\n",
    "print('the lcd of two numbers {} and {} is {}'.format(a,b,c))    "
   ]
  },
  {
   "cell_type": "markdown",
   "id": "9f4d9df7",
   "metadata": {},
   "source": [
    "2. Write a Python Program to Find HCF?"
   ]
  },
  {
   "cell_type": "code",
   "execution_count": 6,
   "id": "9873077c",
   "metadata": {},
   "outputs": [
    {
     "name": "stdout",
     "output_type": "stream",
     "text": [
      "enter the first number30\n",
      "enter the second number24\n",
      "the hcf of two numbers 30 and 24 is 6\n"
     ]
    }
   ],
   "source": [
    "a=int(input('enter the first number'))\n",
    "b=int(input('enter the second number'))\n",
    "if(a>b):\n",
    "    c=a\n",
    "else:\n",
    "    c=b\n",
    "for i in range(1,c+1):\n",
    "    if(a%i==0 and b%i==0):\n",
    "        d=i\n",
    "print('the hcf of two numbers {} and {} is {}'.format(a,b,d))"
   ]
  },
  {
   "cell_type": "code",
   "execution_count": 8,
   "id": "c02cb332",
   "metadata": {},
   "outputs": [
    {
     "name": "stdout",
     "output_type": "stream",
     "text": [
      "enter the first number30\n",
      "enter the second number24\n",
      "The hcf of 30 and 24 is 6\n"
     ]
    }
   ],
   "source": [
    "#2nd method by importing math module to perform mathematical operations \n",
    "# hcf is also called as gcd\n",
    "import math\n",
    "a=int(input('enter the first number'))\n",
    "b=int(input('enter the second number'))\n",
    "print('The hcf of {} and {} is '.format(a,b), end='')\n",
    "print(math.gcd(a,b))"
   ]
  },
  {
   "cell_type": "markdown",
   "id": "80d9d512",
   "metadata": {},
   "source": [
    "3. Write a Python Program to Convert Decimal to Binary, Octal and Hexadecimal?"
   ]
  },
  {
   "cell_type": "code",
   "execution_count": 50,
   "id": "c4ef9e78",
   "metadata": {},
   "outputs": [
    {
     "name": "stdout",
     "output_type": "stream",
     "text": [
      "enter the first number30\n",
      "The decimal to binary conversion of 30 is 0b11110\n",
      "The decimal to octal conversion of 30 is 0o36\n",
      "The decimal to hexadecimal conversion of 30 is 0x1e\n"
     ]
    }
   ],
   "source": [
    "a=int(input('enter the first number'))\n",
    "print('The decimal to binary conversion of {} is '.format(a), end='')\n",
    "print(bin(a))\n",
    "print('The decimal to octal conversion of {} is '.format(a), end='')\n",
    "print(oct(a))\n",
    "print('The decimal to hexadecimal conversion of {} is '.format(a), end='')\n",
    "print(hex(a))"
   ]
  },
  {
   "cell_type": "markdown",
   "id": "ed41c33d",
   "metadata": {},
   "source": [
    "4. Write a Python Program To Find ASCII value of a character?"
   ]
  },
  {
   "cell_type": "code",
   "execution_count": 38,
   "id": "0893399e",
   "metadata": {},
   "outputs": [
    {
     "name": "stdout",
     "output_type": "stream",
     "text": [
      "enter the character a\n",
      "The ascii value of character a is 97\n"
     ]
    }
   ],
   "source": [
    "a=str(input('enter the character '))\n",
    "print('The ascii value of character {} is '.format(a), end='')\n",
    "print(ord(a))"
   ]
  },
  {
   "cell_type": "markdown",
   "id": "2c4fd07e",
   "metadata": {},
   "source": [
    "5. Write a Python Program to Make a Simple Calculator with 4 basic mathematical operations?"
   ]
  },
  {
   "cell_type": "code",
   "execution_count": 49,
   "id": "9f7a238f",
   "metadata": {},
   "outputs": [
    {
     "name": "stdout",
     "output_type": "stream",
     "text": [
      "Please select operation -\n",
      "1. Add\n",
      "2. Subtract\n",
      "3. Multiply\n",
      "4. Divide\n",
      "\n",
      "Enter your choice of operation(1/2/3/4): 1\n",
      "Enter first number 2\n",
      "Enter second number 3\n",
      "2.0 + 3.0 = 5.0\n",
      "want to continue with another calculation? (yes/no): yes\n",
      "Enter your choice of operation(1/2/3/4): 2\n",
      "Enter first number 3\n",
      "Enter second number 1\n",
      "3.0 - 1.0 = 2.0\n",
      "want to continue with another calculation? (yes/no): yes\n",
      "Enter your choice of operation(1/2/3/4): 3\n",
      "Enter first number 4\n",
      "Enter second number 5\n",
      "4.0 * 5.0 = 20.0\n",
      "want to continue with another calculation? (yes/no): yes\n",
      "Enter your choice of operation(1/2/3/4): 5\n",
      "Invalid Input\n",
      "Enter your choice of operation(1/2/3/4): 4\n",
      "Enter first number 4\n",
      "Enter second number 2\n",
      "4.0 / 2.0 = 2.0\n",
      "want to continue with another calculation? (yes/no): no\n"
     ]
    }
   ],
   "source": [
    "def add(a, b):\n",
    "    return a + b\n",
    "\n",
    "def subtract(a, b):\n",
    "    return a - b\n",
    "\n",
    "def multiply(a, b):\n",
    "    return a * b\n",
    "\n",
    "def divide(a, b):\n",
    "    return a / b\n",
    "\n",
    "print(\"Please select operation -\\n\" \\\n",
    "        \"1. Add\\n\" \\\n",
    "        \"2. Subtract\\n\" \\\n",
    "        \"3. Multiply\\n\" \\\n",
    "        \"4. Divide\\n\")\n",
    "\n",
    "while True:\n",
    "    \n",
    "    choice = input('Enter your choice of operation(1/2/3/4): ')\n",
    "    if choice in ('1', '2', '3', '4'):\n",
    "        num1 = float(input('Enter first number '))\n",
    "        num2 = float(input('Enter second number '))\n",
    "\n",
    "        if choice == '1':\n",
    "            print(num1, '+', num2, '=', add(num1, num2))\n",
    "\n",
    "        elif choice == '2':\n",
    "            print(num1, '-', num2, '=', subtract(num1, num2))\n",
    "\n",
    "        elif choice == '3':\n",
    "            print(num1, '*', num2, '=', multiply(num1, num2))\n",
    "\n",
    "        elif choice == '4':\n",
    "            print(num1, '/', num2, '=', divide(num1, num2))\n",
    "        \n",
    "        continue_calculation = input('want to continue with another calculation? (yes/no): ')\n",
    "        if continue_calculation == \"no\":\n",
    "          break\n",
    "    \n",
    "    else:\n",
    "        print(\"Invalid Input\")"
   ]
  },
  {
   "cell_type": "code",
   "execution_count": null,
   "id": "5f416081",
   "metadata": {},
   "outputs": [],
   "source": []
  }
 ],
 "metadata": {
  "kernelspec": {
   "display_name": "Python 3 (ipykernel)",
   "language": "python",
   "name": "python3"
  },
  "language_info": {
   "codemirror_mode": {
    "name": "ipython",
    "version": 3
   },
   "file_extension": ".py",
   "mimetype": "text/x-python",
   "name": "python",
   "nbconvert_exporter": "python",
   "pygments_lexer": "ipython3",
   "version": "3.9.10"
  }
 },
 "nbformat": 4,
 "nbformat_minor": 5
}
