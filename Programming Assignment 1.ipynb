{
 "cells": [
  {
   "cell_type": "code",
   "execution_count": 1,
   "id": "b8ef98cf",
   "metadata": {},
   "outputs": [
    {
     "name": "stdout",
     "output_type": "stream",
     "text": [
      "Hello Python\n"
     ]
    }
   ],
   "source": [
    "#1. write a program to print Hello Python\n",
    "print('Hello Python')"
   ]
  },
  {
   "cell_type": "code",
   "execution_count": 7,
   "id": "4e5c7210",
   "metadata": {},
   "outputs": [
    {
     "name": "stdout",
     "output_type": "stream",
     "text": [
      "enter first number6\n",
      "enter second number2\n",
      "sum of 6.0 and 2.0 is 8.0\n",
      "division of 6.0 and 2.0 is 3.0\n"
     ]
    }
   ],
   "source": [
    "#2. program to do arithematic operations addition and division\n",
    "a=float(input('enter first number'))\n",
    "b = float(input('enter second number'))\n",
    "addition = a + b\n",
    "division= a/b\n",
    "print('sum of {} and {} is {}'.format(a,b,addition))\n",
    "print('division of {} and {} is {}'.format(a,b,division))"
   ]
  },
  {
   "cell_type": "code",
   "execution_count": 10,
   "id": "63ac93dc",
   "metadata": {},
   "outputs": [
    {
     "name": "stdout",
     "output_type": "stream",
     "text": [
      "base of a triangle3\n",
      "height of the triangle5\n",
      "7.5 is the area of the triangle\n"
     ]
    }
   ],
   "source": [
    "#3. program to find area of the triangle\n",
    "base=float(input('base of a triangle'))\n",
    "height=float(input('height of the triangle'))\n",
    "area= 0.5*base*height\n",
    "print('{} is the area of the triangle'.format(area))"
   ]
  },
  {
   "cell_type": "code",
   "execution_count": 13,
   "id": "19e38f0f",
   "metadata": {},
   "outputs": [
    {
     "name": "stdout",
     "output_type": "stream",
     "text": [
      "enter the first number45\n",
      "enter the second number65\n",
      "a is now 65\n",
      "b is now 45\n"
     ]
    }
   ],
   "source": [
    "#4. program to swap two numbers\n",
    "a = int(input('enter the first number'))\n",
    "b= int(input('enter the second number'))\n",
    "temp=a\n",
    "a=b\n",
    "b=temp\n",
    "print('a is now {}'.format(a))\n",
    "print('b is now {}'.format(b))"
   ]
  },
  {
   "cell_type": "code",
   "execution_count": 14,
   "id": "6b272178",
   "metadata": {},
   "outputs": [
    {
     "name": "stdout",
     "output_type": "stream",
     "text": [
      "enter the first number2\n",
      "enter the second number20\n",
      "7\n"
     ]
    }
   ],
   "source": [
    "#5. program to generate a random number\n",
    "import random\n",
    "a = int(input('enter the first number'))\n",
    "b= int(input('enter the second number'))\n",
    "print(random.randint(a,b))"
   ]
  },
  {
   "cell_type": "code",
   "execution_count": null,
   "id": "69528d74",
   "metadata": {},
   "outputs": [],
   "source": []
  }
 ],
 "metadata": {
  "kernelspec": {
   "display_name": "Python 3 (ipykernel)",
   "language": "python",
   "name": "python3"
  },
  "language_info": {
   "codemirror_mode": {
    "name": "ipython",
    "version": 3
   },
   "file_extension": ".py",
   "mimetype": "text/x-python",
   "name": "python",
   "nbconvert_exporter": "python",
   "pygments_lexer": "ipython3",
   "version": "3.9.11"
  }
 },
 "nbformat": 4,
 "nbformat_minor": 5
}
