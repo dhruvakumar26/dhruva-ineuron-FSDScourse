{
 "cells": [
  {
   "cell_type": "markdown",
   "id": "5a9015b2",
   "metadata": {},
   "source": [
    "1. Write a Python Program to Find the Factorial of a Number?"
   ]
  },
  {
   "cell_type": "code",
   "execution_count": 42,
   "id": "6513b3e6",
   "metadata": {},
   "outputs": [
    {
     "name": "stdout",
     "output_type": "stream",
     "text": [
      "enter the number6\n",
      "720 is the factorial of a number 6\n"
     ]
    }
   ],
   "source": [
    "num = int(input('enter the number'))\n",
    "factorial=1\n",
    "number=num\n",
    "while(num>0):\n",
    "    factorial = factorial*num\n",
    "    num=num-1\n",
    "print('{} is the factorial of a number {}'.format(factorial,number))"
   ]
  },
  {
   "cell_type": "markdown",
   "id": "ad528088",
   "metadata": {},
   "source": [
    "2. Write a Python Program to Display the multiplication Table?"
   ]
  },
  {
   "cell_type": "code",
   "execution_count": 40,
   "id": "2f78223b",
   "metadata": {},
   "outputs": [
    {
     "name": "stdout",
     "output_type": "stream",
     "text": [
      "enter the number5\n",
      "5  x  1  =  5\n",
      "5  x  2  =  10\n",
      "5  x  3  =  15\n",
      "5  x  4  =  20\n",
      "5  x  5  =  25\n",
      "5  x  6  =  30\n",
      "5  x  7  =  35\n",
      "5  x  8  =  40\n",
      "5  x  9  =  45\n",
      "5  x  10  =  50\n"
     ]
    }
   ],
   "source": [
    "num = int(input('enter the number'))\n",
    "for i in range(1,11):\n",
    "    print(num,' x ',i,' = ',num*i)"
   ]
  },
  {
   "cell_type": "markdown",
   "id": "1b0eb43a",
   "metadata": {},
   "source": [
    "3. Write a Python Program to Print the Fibonacci sequence?"
   ]
  },
  {
   "cell_type": "code",
   "execution_count": 18,
   "id": "7b187545",
   "metadata": {},
   "outputs": [
    {
     "name": "stdout",
     "output_type": "stream",
     "text": [
      "enter the number of fibonacci sequences to display6\n",
      "0\n",
      "1\n",
      "1\n",
      "2\n",
      "3\n",
      "5\n"
     ]
    }
   ],
   "source": [
    "num = int(input('enter the number of fibonacci sequences to display'))\n",
    "n1=0\n",
    "n2=1\n",
    "count=0\n",
    "if(num<=0):\n",
    "    print('please enter a valid positve number')\n",
    "else:\n",
    "    while(count<num):\n",
    "        print(n1)\n",
    "        fibonacci= n1+ n2\n",
    "        n1=n2\n",
    "        n2=fibonacci\n",
    "        count=count+1"
   ]
  },
  {
   "cell_type": "markdown",
   "id": "983210b5",
   "metadata": {},
   "source": [
    "4. Write a Python Program to Check Armstrong Number?"
   ]
  },
  {
   "cell_type": "code",
   "execution_count": 32,
   "id": "16c14962",
   "metadata": {},
   "outputs": [
    {
     "name": "stdout",
     "output_type": "stream",
     "text": [
      "enter the number153\n",
      "given number 153 is a armstrong number\n"
     ]
    }
   ],
   "source": [
    "num = int(input('enter the number'))\n",
    "length= len(str(num))\n",
    "total=0\n",
    "number=num\n",
    "while(number!=0):\n",
    "    digit = number%10\n",
    "    total = total + digit**length\n",
    "    number = int(number / 10)\n",
    "if(total == num):\n",
    "    print('given number {} is a armstrong number'.format(num))\n",
    "else:\n",
    "    print('given number {} is not a armstrong number'.format(num))\n",
    "   "
   ]
  },
  {
   "cell_type": "markdown",
   "id": "6ab31156",
   "metadata": {},
   "source": [
    "5. Write a Python Program to Find Armstrong Number in an Interval?"
   ]
  },
  {
   "cell_type": "code",
   "execution_count": 39,
   "id": "53954cc4",
   "metadata": {},
   "outputs": [
    {
     "name": "stdout",
     "output_type": "stream",
     "text": [
      "enter the lower interval of a range125\n",
      "enter the upper interval of a range8209\n",
      "153 is a armstrong number\n",
      "370 is a armstrong number\n",
      "371 is a armstrong number\n",
      "407 is a armstrong number\n",
      "1634 is a armstrong number\n",
      "8208 is a armstrong number\n"
     ]
    }
   ],
   "source": [
    "lower_interval = int(input('enter the lower interval of a range'))\n",
    "upper_interval = int(input('enter the upper interval of a range'))\n",
    "\n",
    "for i in range(lower_interval,upper_interval):\n",
    "    total=0\n",
    "    j=len(str(i))\n",
    "    num=i\n",
    "    while(num!=0):\n",
    "        k=num%10\n",
    "        total=total+k**j\n",
    "        num=int(num/10)\n",
    "    if(total==i):\n",
    "        print('{} is a armstrong number'.format(i))\n",
    "        "
   ]
  },
  {
   "cell_type": "markdown",
   "id": "8434b8bb",
   "metadata": {},
   "source": [
    "6. Write a Python Program to Find the Sum of Natural Numbers?"
   ]
  },
  {
   "cell_type": "code",
   "execution_count": 43,
   "id": "57fd53b7",
   "metadata": {},
   "outputs": [
    {
     "name": "stdout",
     "output_type": "stream",
     "text": [
      "enter the number100\n",
      "5050 is the sum of the 100 natural numbers\n"
     ]
    }
   ],
   "source": [
    "num = int(input('enter the number'))\n",
    "sum=0\n",
    "number=num\n",
    "if(num<0):\n",
    "    print('enter a valid positive number')\n",
    "else:\n",
    "    while(num>0):\n",
    "        sum +=num\n",
    "        num=num-1\n",
    "    print('{} is the sum of the {} natural numbers'.format(sum, number))"
   ]
  },
  {
   "cell_type": "code",
   "execution_count": null,
   "id": "11919c84",
   "metadata": {},
   "outputs": [],
   "source": []
  }
 ],
 "metadata": {
  "kernelspec": {
   "display_name": "Python 3 (ipykernel)",
   "language": "python",
   "name": "python3"
  },
  "language_info": {
   "codemirror_mode": {
    "name": "ipython",
    "version": 3
   },
   "file_extension": ".py",
   "mimetype": "text/x-python",
   "name": "python",
   "nbconvert_exporter": "python",
   "pygments_lexer": "ipython3",
   "version": "3.9.10"
  }
 },
 "nbformat": 4,
 "nbformat_minor": 5
}
