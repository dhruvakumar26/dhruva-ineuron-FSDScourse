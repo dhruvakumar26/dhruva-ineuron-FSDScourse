{
 "cells": [
  {
   "cell_type": "markdown",
   "id": "93ceaa29",
   "metadata": {},
   "source": [
    "1. Write a Python program to find sum of elements in list?"
   ]
  },
  {
   "cell_type": "code",
   "execution_count": 5,
   "id": "ae6dd2a6",
   "metadata": {},
   "outputs": [
    {
     "name": "stdout",
     "output_type": "stream",
     "text": [
      "enter the size of the list4\n",
      "1\n",
      "2\n",
      "3\n",
      "4\n",
      "The sum of elements in the list [1, 2, 3, 4] is 10\n"
     ]
    }
   ],
   "source": [
    "l=[]\n",
    "n=int(input('enter the size of the list'))\n",
    "for i in range(0,n):\n",
    "    l.append(int(input()))\n",
    "sum=0\n",
    "for i in l:\n",
    "    sum+=i\n",
    "print('The sum of elements in the list {} is {}'.format(l,sum))"
   ]
  },
  {
   "cell_type": "markdown",
   "id": "08982f07",
   "metadata": {},
   "source": [
    "2. Write a Python program to Multiply all numbers in the list?"
   ]
  },
  {
   "cell_type": "code",
   "execution_count": 8,
   "id": "2432e8af",
   "metadata": {},
   "outputs": [
    {
     "name": "stdout",
     "output_type": "stream",
     "text": [
      "enter the size of the list4\n",
      "1\n",
      "2\n",
      "3\n",
      "4\n",
      "The product of elements in the list [1, 2, 3, 4] is 24\n"
     ]
    }
   ],
   "source": [
    "l=[]\n",
    "n=int(input('enter the size of the list'))\n",
    "for i in range(0,n):\n",
    "    l.append(int(input()))\n",
    "mul=1\n",
    "for i in l:\n",
    "    mul*=i\n",
    "print('The product of elements in the list {} is {}'.format(l,mul))"
   ]
  },
  {
   "cell_type": "markdown",
   "id": "6267559a",
   "metadata": {},
   "source": [
    "3. Write a Python program to find smallest number in a list?"
   ]
  },
  {
   "cell_type": "code",
   "execution_count": 12,
   "id": "c98965fd",
   "metadata": {},
   "outputs": [
    {
     "name": "stdout",
     "output_type": "stream",
     "text": [
      "enter the size of the list4\n",
      "23\n",
      "4\n",
      "3\n",
      "56\n",
      "the minimum of list [23, 4, 3, 56] is 3\n"
     ]
    }
   ],
   "source": [
    "l=[]\n",
    "n=int(input('enter the size of the list'))\n",
    "for i in range(0,n):\n",
    "    l.append(int(input()))\n",
    "print('the minimum of list {} is {}'.format(l,min(l)))\n",
    "    "
   ]
  },
  {
   "cell_type": "markdown",
   "id": "e5f97c97",
   "metadata": {},
   "source": [
    "4. Write a Python program to find largest number in a list?"
   ]
  },
  {
   "cell_type": "code",
   "execution_count": 13,
   "id": "80e1bbdb",
   "metadata": {},
   "outputs": [
    {
     "name": "stdout",
     "output_type": "stream",
     "text": [
      "enter the size of the list4\n",
      "23\n",
      "4\n",
      "54\n",
      "5\n",
      "the maximum of list [23, 4, 54, 5] is 54\n"
     ]
    }
   ],
   "source": [
    "l=[]\n",
    "n=int(input('enter the size of the list'))\n",
    "for i in range(0,n):\n",
    "    l.append(int(input()))\n",
    "print('the maximum of list {} is {}'.format(l,max(l)))\n",
    "    "
   ]
  },
  {
   "cell_type": "markdown",
   "id": "3fa2a92c",
   "metadata": {},
   "source": [
    "5. Write a Python program to find second largest number in a list?"
   ]
  },
  {
   "cell_type": "code",
   "execution_count": 31,
   "id": "bf4c3246",
   "metadata": {},
   "outputs": [
    {
     "name": "stdout",
     "output_type": "stream",
     "text": [
      "enter the size of the list4\n",
      "123\n",
      "323\n",
      "2343\n",
      "234\n",
      "the list is [123, 323, 2343, 234]\n",
      "the second largest number of list is 323\n"
     ]
    }
   ],
   "source": [
    "l=[]\n",
    "n=int(input('enter the size of the list'))\n",
    "for i in range(0,n):\n",
    "    l.append(int(input()))\n",
    "print('the list is {}'.format(l))\n",
    "l.sort(reverse=True)\n",
    "print('the second largest number of list is {}'.format(l[1]))"
   ]
  },
  {
   "cell_type": "markdown",
   "id": "66330f37",
   "metadata": {},
   "source": [
    "6. Write a Python program to find N largest elements from a list?"
   ]
  },
  {
   "cell_type": "code",
   "execution_count": 50,
   "id": "e63a6192",
   "metadata": {},
   "outputs": [
    {
     "name": "stdout",
     "output_type": "stream",
     "text": [
      "enter the N value4\n",
      "enter the size of the list6\n",
      "12\n",
      "23\n",
      "34\n",
      "44\n",
      "445\n",
      "43\n",
      "[12, 23, 34, 44, 445, 43]\n",
      "[445, 44, 43, 34]\n"
     ]
    }
   ],
   "source": [
    "N=int(input('enter the N value'))\n",
    "l=[]\n",
    "n=int(input('enter the size of the list'))\n",
    "for i in range(0,n):\n",
    "    l.append(int(input()))\n",
    "print(l)\n",
    "l.sort(reverse=True)\n",
    "print(l[:N])"
   ]
  },
  {
   "cell_type": "markdown",
   "id": "07482e40",
   "metadata": {},
   "source": [
    " 7. Write a Python program to print even numbers in a list?"
   ]
  },
  {
   "cell_type": "code",
   "execution_count": 36,
   "id": "3b1a33af",
   "metadata": {},
   "outputs": [
    {
     "name": "stdout",
     "output_type": "stream",
     "text": [
      "enter the size of the list5\n",
      "1\n",
      "2\n",
      "3\n",
      "4\n",
      "6\n",
      "[1, 2, 3, 4, 6]\n",
      "2\n",
      "4\n",
      "6\n"
     ]
    }
   ],
   "source": [
    "l=[]\n",
    "n=int(input('enter the size of the list'))\n",
    "for i in range(0,n):\n",
    "    l.append(int(input()))\n",
    "print(l)\n",
    "for i in l:\n",
    "    if i%2==0:\n",
    "        print(i)"
   ]
  },
  {
   "cell_type": "markdown",
   "id": "43cacd22",
   "metadata": {},
   "source": [
    "8. Write a Python program to print odd numbers in a List?"
   ]
  },
  {
   "cell_type": "code",
   "execution_count": 37,
   "id": "5e5bdf51",
   "metadata": {},
   "outputs": [
    {
     "name": "stdout",
     "output_type": "stream",
     "text": [
      "enter the size of the list5\n",
      "1\n",
      "2\n",
      "3\n",
      "4\n",
      "6\n",
      "[1, 2, 3, 4, 6]\n",
      "1\n",
      "3\n"
     ]
    }
   ],
   "source": [
    "l=[]\n",
    "n=int(input('enter the size of the list'))\n",
    "for i in range(0,n):\n",
    "    l.append(int(input()))\n",
    "print(l)\n",
    "for i in l:\n",
    "    if i%2!=0:\n",
    "        print(i)"
   ]
  },
  {
   "cell_type": "markdown",
   "id": "e078d995",
   "metadata": {},
   "source": [
    "9. Write a Python program to Remove empty List from List?"
   ]
  },
  {
   "cell_type": "code",
   "execution_count": 55,
   "id": "474cebac",
   "metadata": {},
   "outputs": [
    {
     "name": "stdout",
     "output_type": "stream",
     "text": [
      "enter the size of the list4\n",
      "1\n",
      "[]\n",
      "a\n",
      "ffghg\n",
      "['1', '[]', 'a', 'ffghg']\n",
      "['1', 'a', 'ffghg']\n"
     ]
    }
   ],
   "source": [
    "l=[]\n",
    "n=int(input('enter the size of the list'))\n",
    "for i in range(0,n):\n",
    "    l.append(input())\n",
    "print(l)\n",
    "for i in l:\n",
    "    if i=='[]':\n",
    "        l.remove(i)\n",
    "print(l)\n"
   ]
  },
  {
   "cell_type": "code",
   "execution_count": 43,
   "id": "9fb36368",
   "metadata": {},
   "outputs": [
    {
     "name": "stdout",
     "output_type": "stream",
     "text": [
      "[1, 2, 'a', 'sdgbfh', [1, 2, 2]]\n"
     ]
    }
   ],
   "source": [
    "l=[1,2,'a','sdgbfh',[],[1,2,2]]\n",
    "for i in l:\n",
    "    if i ==[]:\n",
    "        l.remove(i)\n",
    "print(l)"
   ]
  },
  {
   "cell_type": "markdown",
   "id": "63d40129",
   "metadata": {},
   "source": [
    "10. Write a Python program to Cloning or Copying a list?"
   ]
  },
  {
   "cell_type": "code",
   "execution_count": 45,
   "id": "e6e98dd3",
   "metadata": {},
   "outputs": [
    {
     "name": "stdout",
     "output_type": "stream",
     "text": [
      "enter the size of the list4\n",
      "a\n",
      "d\n",
      "f\n",
      "b\n",
      "the list l is  ['a', 'd', 'f', 'b']\n",
      "the list l1 is  ['a', 'd', 'f', 'b']\n"
     ]
    }
   ],
   "source": [
    "l=[]\n",
    "l1=[]\n",
    "n=int(input('enter the size of the list'))\n",
    "for i in range(0,n):\n",
    "    l.append(input())\n",
    "print('the list l is ',l)\n",
    "for i in l:\n",
    "    l1.append(i)\n",
    "print('the list l1 is ',l1)"
   ]
  },
  {
   "cell_type": "code",
   "execution_count": 54,
   "id": "cf7cf093",
   "metadata": {},
   "outputs": [
    {
     "name": "stdout",
     "output_type": "stream",
     "text": [
      "[2, 3, 'a', 'b', [1, 'a']]\n"
     ]
    }
   ],
   "source": [
    "l=[2,3,'a','b',[1,'a']]\n",
    "l1=l.copy()\n",
    "print(l1)"
   ]
  },
  {
   "cell_type": "markdown",
   "id": "29f2f8f0",
   "metadata": {},
   "source": [
    "11. Write a Python program to Count occurrences of an element in a list?"
   ]
  },
  {
   "cell_type": "code",
   "execution_count": 39,
   "id": "072f14c7",
   "metadata": {},
   "outputs": [
    {
     "name": "stdout",
     "output_type": "stream",
     "text": [
      "enter the size of the list4\n",
      "1\n",
      "a\n",
      "1\n",
      "a\n",
      "['1', 'a', '1', 'a']\n",
      "a => 2\n",
      "1 => 2\n"
     ]
    }
   ],
   "source": [
    "l=[]\n",
    "n=int(input('enter the size of the list'))\n",
    "for i in range(0,n):\n",
    "    l.append(input())\n",
    "print(l)\n",
    "for i in set(l):\n",
    "    print(i,'=>',l.count(i))"
   ]
  },
  {
   "cell_type": "code",
   "execution_count": null,
   "id": "b05c7353",
   "metadata": {},
   "outputs": [],
   "source": []
  }
 ],
 "metadata": {
  "kernelspec": {
   "display_name": "Python 3 (ipykernel)",
   "language": "python",
   "name": "python3"
  },
  "language_info": {
   "codemirror_mode": {
    "name": "ipython",
    "version": 3
   },
   "file_extension": ".py",
   "mimetype": "text/x-python",
   "name": "python",
   "nbconvert_exporter": "python",
   "pygments_lexer": "ipython3",
   "version": "3.9.11"
  }
 },
 "nbformat": 4,
 "nbformat_minor": 5
}
