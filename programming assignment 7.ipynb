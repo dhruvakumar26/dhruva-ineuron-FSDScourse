{
 "cells": [
  {
   "cell_type": "markdown",
   "id": "b84ae606",
   "metadata": {},
   "source": [
    "1. Write a Python Program to find sum of array?"
   ]
  },
  {
   "cell_type": "code",
   "execution_count": 1,
   "id": "1c10cb73",
   "metadata": {},
   "outputs": [],
   "source": [
    "import array as arr"
   ]
  },
  {
   "cell_type": "code",
   "execution_count": 2,
   "id": "364126e2",
   "metadata": {},
   "outputs": [],
   "source": [
    "a=arr.array('i',[1,2,3,3])"
   ]
  },
  {
   "cell_type": "code",
   "execution_count": 3,
   "id": "af4737ca",
   "metadata": {},
   "outputs": [
    {
     "name": "stdout",
     "output_type": "stream",
     "text": [
      "9\n"
     ]
    }
   ],
   "source": [
    "sum=0\n",
    "for i in range(len(a)):\n",
    "    sum+=a[i]\n",
    "print(sum)"
   ]
  },
  {
   "cell_type": "markdown",
   "id": "5fe2224a",
   "metadata": {},
   "source": [
    "2. Write a Python Program to find largest element in an array?"
   ]
  },
  {
   "cell_type": "code",
   "execution_count": 4,
   "id": "391824eb",
   "metadata": {},
   "outputs": [],
   "source": [
    "def largest_num_find(arr):\n",
    "    max=a[0]\n",
    "    for i in range(1,len(a)):\n",
    "        if a[i]>max:\n",
    "            max=a[i]\n",
    "    return max"
   ]
  },
  {
   "cell_type": "code",
   "execution_count": 5,
   "id": "d626911d",
   "metadata": {},
   "outputs": [
    {
     "name": "stdout",
     "output_type": "stream",
     "text": [
      "6\n"
     ]
    }
   ],
   "source": [
    "import array as arr\n",
    "a=arr.array('i', [1,3,5,2,1,6])\n",
    "print(largest_num_find(a))"
   ]
  },
  {
   "cell_type": "markdown",
   "id": "1c1d9c28",
   "metadata": {},
   "source": [
    "3. Write a Python Program for array rotation?"
   ]
  },
  {
   "cell_type": "code",
   "execution_count": 6,
   "id": "a00046dc",
   "metadata": {},
   "outputs": [],
   "source": [
    "def reverse_array(a,start,end):\n",
    "    while(start<end):\n",
    "        a[start],a[end]=a[end],a[start]\n",
    "        start+=1\n",
    "        end-=1"
   ]
  },
  {
   "cell_type": "code",
   "execution_count": 7,
   "id": "fc345186",
   "metadata": {},
   "outputs": [],
   "source": [
    "def rotate_array(a,k):\n",
    "    n=len(a)\n",
    "    k=k%n\n",
    "    reverse_array(a,0,n-1)\n",
    "    reverse_array(a,0,n-k-1)\n",
    "    reverse_array(a,n-k,n-1)\n",
    "    return a"
   ]
  },
  {
   "cell_type": "code",
   "execution_count": 8,
   "id": "da21b23b",
   "metadata": {},
   "outputs": [
    {
     "name": "stdout",
     "output_type": "stream",
     "text": [
      "array('i', [3, 4, 5, 6, 1, 2])\n"
     ]
    }
   ],
   "source": [
    "import array as arr\n",
    "a=arr.array('i',[1,2,3,4,5,6])\n",
    "k=2\n",
    "print(rotate_array(a,k))"
   ]
  },
  {
   "cell_type": "markdown",
   "id": "0a5b78a7",
   "metadata": {},
   "source": [
    "4. Write a Python Program to Split the array and add the first part to the end?"
   ]
  },
  {
   "cell_type": "code",
   "execution_count": 9,
   "id": "eb705800",
   "metadata": {},
   "outputs": [],
   "source": [
    "def split_array_add(a,k):\n",
    "    n=len(a)\n",
    "    k=k%n\n",
    "    first_part=a[:k]\n",
    "    second_part=a[k:]\n",
    "    result=second_part+first_part\n",
    "    return result"
   ]
  },
  {
   "cell_type": "code",
   "execution_count": 10,
   "id": "513ed48b",
   "metadata": {},
   "outputs": [
    {
     "name": "stdout",
     "output_type": "stream",
     "text": [
      "array('i', [3, 4, 5, 1, 2])\n"
     ]
    }
   ],
   "source": [
    "import array as arr\n",
    "a=arr.array('i',[1,2,3,4,5])\n",
    "k=2\n",
    "print(split_array_add(a,k))"
   ]
  },
  {
   "cell_type": "markdown",
   "id": "ea5ca044",
   "metadata": {},
   "source": [
    "5. Write a Python Program to check if given array is Monotonic?"
   ]
  },
  {
   "cell_type": "code",
   "execution_count": 11,
   "id": "9413a089",
   "metadata": {},
   "outputs": [],
   "source": [
    "def is_monotonic(a):\n",
    "    increasing=decreasing=True\n",
    "    for i in range(1,len(a)):\n",
    "        if(a[i]<a[i-1]):\n",
    "            increasing=False\n",
    "        if(a[i]>a[i-1]):\n",
    "            decreasing=False\n",
    "    return increasing or decreasing   "
   ]
  },
  {
   "cell_type": "code",
   "execution_count": 12,
   "id": "e030db3d",
   "metadata": {},
   "outputs": [
    {
     "name": "stdout",
     "output_type": "stream",
     "text": [
      "True\n",
      "True\n",
      "True\n",
      "False\n"
     ]
    }
   ],
   "source": [
    "import array as arr\n",
    "a = arr.array('i',[1, 2, 3, 4, 5])\n",
    "b = arr.array('i',[5, 4, 3, 2, 1])\n",
    "c = arr.array('i',[1, 2, 2, 4, 5])\n",
    "d = arr.array('i',[1, 3, 2, 4, 5])\n",
    "print(is_monotonic(a))\n",
    "print(is_monotonic(b))\n",
    "print(is_monotonic(c))\n",
    "print(is_monotonic(d))"
   ]
  },
  {
   "cell_type": "code",
   "execution_count": null,
   "id": "9ac9fd36",
   "metadata": {},
   "outputs": [],
   "source": []
  }
 ],
 "metadata": {
  "kernelspec": {
   "display_name": "Python 3 (ipykernel)",
   "language": "python",
   "name": "python3"
  },
  "language_info": {
   "codemirror_mode": {
    "name": "ipython",
    "version": 3
   },
   "file_extension": ".py",
   "mimetype": "text/x-python",
   "name": "python",
   "nbconvert_exporter": "python",
   "pygments_lexer": "ipython3",
   "version": "3.9.10"
  }
 },
 "nbformat": 4,
 "nbformat_minor": 5
}
