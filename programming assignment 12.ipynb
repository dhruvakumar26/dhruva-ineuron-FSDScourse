{
 "cells": [
  {
   "cell_type": "markdown",
   "id": "feafd7a9",
   "metadata": {},
   "source": [
    "1. Write a Python program to Extract Unique values dictionary values?"
   ]
  },
  {
   "cell_type": "code",
   "execution_count": 24,
   "id": "2dd300fd",
   "metadata": {},
   "outputs": [
    {
     "name": "stdout",
     "output_type": "stream",
     "text": [
      "[1, 2, 3, 'sd', 12, 'a', 13, 'b', 'sdgf']\n"
     ]
    }
   ],
   "source": [
    "a= {'key1' : [1, 2,3,'a'],\n",
    "             'key2' : (2,3,'b','a'),\n",
    "             'key3' : 12,\n",
    "             'key4' : 12,\n",
    "             'key5':'sdgf',\n",
    "             'key6':'sdgf',\n",
    "             'key7':('sd',1,13)}\n",
    "k=[]\n",
    "for i in a.values():\n",
    "    if type(i)==list or type(i)==tuple:\n",
    "        for j in i:\n",
    "            k.append(j)\n",
    "    else:\n",
    "        k.append(i)\n",
    "        \n",
    "print(list(set(k)))"
   ]
  },
  {
   "cell_type": "markdown",
   "id": "510da912",
   "metadata": {},
   "source": [
    "2. Write a Python program to find the sum of all items in a dictionary?"
   ]
  },
  {
   "cell_type": "code",
   "execution_count": 35,
   "id": "41502d92",
   "metadata": {},
   "outputs": [
    {
     "name": "stdout",
     "output_type": "stream",
     "text": [
      "49\n"
     ]
    }
   ],
   "source": [
    "a= {'key1' : [1, 2,3],\n",
    "             'key2' : (2,3),\n",
    "             'key3' : 12,\n",
    "             'key4' : 12,\n",
    "             'key5':(1,13)}\n",
    "sum=0\n",
    "for i in a.values():\n",
    "    if type(i)==list or type(i)==tuple:\n",
    "        for j in i:\n",
    "            sum = sum + j\n",
    "    else:\n",
    "         sum = sum + i\n",
    "print(sum)"
   ]
  },
  {
   "cell_type": "markdown",
   "id": "13762eea",
   "metadata": {},
   "source": [
    "3. Write a Python program to Merging two Dictionaries?"
   ]
  },
  {
   "cell_type": "code",
   "execution_count": 37,
   "id": "7a829e28",
   "metadata": {},
   "outputs": [
    {
     "name": "stdout",
     "output_type": "stream",
     "text": [
      "{'key': [1, 2, 3], 'key8': (2, 3), 'key9': 12, 'key10': 12, 'key11': (1, 13), 'key1': [1, 2, 3, 'a'], 'key2': (2, 3, 'b', 'a'), 'key3': 12, 'key4': 12, 'key5': 'sdgf', 'key6': 'sdgf', 'key7': ('sd', 1, 13)}\n"
     ]
    }
   ],
   "source": [
    "a= {'key' : [1, 2,3],\n",
    "             'key8' : (2,3),\n",
    "             'key9' : 12,\n",
    "             'key10' : 12,\n",
    "             'key11':(1,13)}\n",
    "b= {'key1' : [1, 2,3,'a'],\n",
    "             'key2' : (2,3,'b','a'),\n",
    "             'key3' : 12,\n",
    "             'key4' : 12,\n",
    "             'key5':'sdgf',\n",
    "             'key6':'sdgf',\n",
    "             'key7':('sd',1,13)}\n",
    "for i in b.keys():\n",
    "    a[i]=b[i]\n",
    "print(a)"
   ]
  },
  {
   "cell_type": "markdown",
   "id": "ade12e64",
   "metadata": {},
   "source": [
    "4. Write a Python program to convert key-values list to flat dictionary?"
   ]
  },
  {
   "cell_type": "code",
   "execution_count": 48,
   "id": "f9e297a2",
   "metadata": {},
   "outputs": [
    {
     "name": "stdout",
     "output_type": "stream",
     "text": [
      "{101: 'sravan', 102: 'sreenu', 103: 'sailaja', 104: 'sai'}\n"
     ]
    }
   ],
   "source": [
    "a= {'person_id' : [101, 102,103,104],\n",
    "             'person_name':['sravan','sreenu','sailaja','sai' ]}\n",
    "b={}\n",
    "c=list(a.values())\n",
    "d=c[0]\n",
    "e=c[1]\n",
    "for i in range(len(d)):\n",
    "    b[d[i]]=e[i]\n",
    "print(b)    "
   ]
  },
  {
   "cell_type": "markdown",
   "id": "08713aaa",
   "metadata": {},
   "source": [
    "5. Write a Python program to insertion at the beginning in OrderedDict?"
   ]
  },
  {
   "cell_type": "code",
   "execution_count": 56,
   "id": "2150f86f",
   "metadata": {},
   "outputs": [
    {
     "name": "stdout",
     "output_type": "stream",
     "text": [
      "OrderedDict([('a', 1), ('b', 2), ('d', 4), ('c', 3)])\n",
      "OrderedDict([('e', 5), ('a', 1), ('b', 2), ('d', 4), ('c', 3)])\n"
     ]
    }
   ],
   "source": [
    "from collections import OrderedDict\n",
    "a=OrderedDict({'a':1,'b':2,'d':4,'c':3})\n",
    "print(a)\n",
    "a.update({'e':5})\n",
    "a.move_to_end('e',last=False)\n",
    "print(a)"
   ]
  },
  {
   "cell_type": "markdown",
   "id": "ab3374a1",
   "metadata": {},
   "source": [
    "6. Write a Python program to check order of character in string using OrderedDict()?"
   ]
  },
  {
   "cell_type": "code",
   "execution_count": 97,
   "id": "e5e5ce5b",
   "metadata": {},
   "outputs": [],
   "source": [
    "def is_ordered(a, b): \n",
    "    c = OrderedDict.fromkeys(a) \n",
    "    count = 0\n",
    "    for key,value in c.items(): \n",
    "        if (key == b[count]): \n",
    "            count = count + 1\n",
    "        if (count == (len(b))): \n",
    "            return True \n",
    "    return False "
   ]
  },
  {
   "cell_type": "code",
   "execution_count": 98,
   "id": "df124cc2",
   "metadata": {},
   "outputs": [
    {
     "name": "stdout",
     "output_type": "stream",
     "text": [
      "True\n"
     ]
    }
   ],
   "source": [
    "a='ineuron datasciene'\n",
    "b = 'dat'\n",
    "print(is_ordered(a,b)) "
   ]
  },
  {
   "cell_type": "markdown",
   "id": "99fac0f3",
   "metadata": {},
   "source": [
    "7. Write a Python program to sort Python Dictionaries by Key or Value?"
   ]
  },
  {
   "cell_type": "code",
   "execution_count": 144,
   "id": "caf747b2",
   "metadata": {},
   "outputs": [],
   "source": [
    "def key_sort(d):\n",
    "    for i in sorted(d.keys()):\n",
    "        print((i,d[i]),end='')\n",
    "def value_sort(d):\n",
    "    print(sorted(d.items(), key=lambda i: (i[1], i[0])))"
   ]
  },
  {
   "cell_type": "code",
   "execution_count": 145,
   "id": "7c217b65",
   "metadata": {},
   "outputs": [
    {
     "name": "stdout",
     "output_type": "stream",
     "text": [
      "(1, 9)(4, 5)(5, 7)(6, 4)(9, 1)"
     ]
    }
   ],
   "source": [
    "d={4:5,5:7,1:9,9:1,6:4}\n",
    "key_sort(d)"
   ]
  },
  {
   "cell_type": "code",
   "execution_count": 146,
   "id": "f53caff3",
   "metadata": {},
   "outputs": [
    {
     "name": "stdout",
     "output_type": "stream",
     "text": [
      "[(9, 1), (6, 4), (4, 5), (5, 7), (1, 9)]\n"
     ]
    }
   ],
   "source": [
    "value_sort(d)"
   ]
  },
  {
   "cell_type": "code",
   "execution_count": null,
   "id": "11d8cdc3",
   "metadata": {},
   "outputs": [],
   "source": []
  }
 ],
 "metadata": {
  "kernelspec": {
   "display_name": "Python 3 (ipykernel)",
   "language": "python",
   "name": "python3"
  },
  "language_info": {
   "codemirror_mode": {
    "name": "ipython",
    "version": 3
   },
   "file_extension": ".py",
   "mimetype": "text/x-python",
   "name": "python",
   "nbconvert_exporter": "python",
   "pygments_lexer": "ipython3",
   "version": "3.9.11"
  }
 },
 "nbformat": 4,
 "nbformat_minor": 5
}
