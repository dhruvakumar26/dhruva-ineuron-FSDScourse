{
 "cells": [
  {
   "cell_type": "markdown",
   "id": "ff59e3ca",
   "metadata": {},
   "source": [
    "1. Write a Python program to find words which are greater than given length k?"
   ]
  },
  {
   "cell_type": "code",
   "execution_count": 70,
   "id": "11aecd69",
   "metadata": {},
   "outputs": [],
   "source": [
    "def find_words(n,a):\n",
    "    c=a.split()\n",
    "    l=''\n",
    "    for i in c:\n",
    "        if len(i)>n:\n",
    "            l=l+' '+i\n",
    "    return l"
   ]
  },
  {
   "cell_type": "code",
   "execution_count": 71,
   "id": "17f9b568",
   "metadata": {},
   "outputs": [
    {
     "name": "stdout",
     "output_type": "stream",
     "text": [
      "enter the string this is a python data science program\n",
      "enter the length of words4\n"
     ]
    },
    {
     "data": {
      "text/plain": [
       "' python science program'"
      ]
     },
     "execution_count": 71,
     "metadata": {},
     "output_type": "execute_result"
    }
   ],
   "source": [
    "a=str(input('enter the string '))\n",
    "n=int(input('enter the length of words'))\n",
    "find_words(n,a)"
   ]
  },
  {
   "cell_type": "markdown",
   "id": "f56ef603",
   "metadata": {},
   "source": [
    "2. Write a Python program for removing i-th character from a string?"
   ]
  },
  {
   "cell_type": "code",
   "execution_count": 22,
   "id": "92c56ec4",
   "metadata": {},
   "outputs": [
    {
     "name": "stdout",
     "output_type": "stream",
     "text": [
      "enter the stringinferno \n",
      "enter the position value5\n",
      "the new string after removing the character at 5 position is  infero \n"
     ]
    }
   ],
   "source": [
    "a=str(input('enter the string '))\n",
    "n=int(input('enter the position value'))\n",
    "b=''\n",
    "for i in range(len(a)):\n",
    "    if i!=n:\n",
    "        b=b+a[i]\n",
    "print('the new string after removing the character at {} position is '.format(n), b)"
   ]
  },
  {
   "cell_type": "markdown",
   "id": "fcb371df",
   "metadata": {},
   "source": [
    "3. Write a Python program to split and join a string?"
   ]
  },
  {
   "cell_type": "code",
   "execution_count": 35,
   "id": "95e2d2ab",
   "metadata": {},
   "outputs": [],
   "source": [
    "def split_string(a,d):\n",
    "    b=a.split(d)\n",
    "    return b"
   ]
  },
  {
   "cell_type": "code",
   "execution_count": 40,
   "id": "752ed90c",
   "metadata": {},
   "outputs": [],
   "source": [
    "def join_string(a,d):\n",
    "    b=d.join(a)\n",
    "    return b"
   ]
  },
  {
   "cell_type": "code",
   "execution_count": 43,
   "id": "029a83e7",
   "metadata": {},
   "outputs": [
    {
     "name": "stdout",
     "output_type": "stream",
     "text": [
      "enter the string ineuron course\n",
      "enter the separator string n c\n",
      "['ineuro', 'ourse']\n",
      "ineuron course\n"
     ]
    }
   ],
   "source": [
    "a=str(input('enter the string '))\n",
    "d=str(input('enter the separator string '))\n",
    "c=split_string(a,d)\n",
    "e=join_string(c,d)\n",
    "print(c)\n",
    "print(e)"
   ]
  },
  {
   "cell_type": "markdown",
   "id": "263d8713",
   "metadata": {},
   "source": [
    "4. Write a Python to check if a given string is binary string or not?"
   ]
  },
  {
   "cell_type": "code",
   "execution_count": 131,
   "id": "afefebc0",
   "metadata": {},
   "outputs": [],
   "source": [
    "def is_binary(a):\n",
    "    b='10'\n",
    "    count=0\n",
    "    for i in a:\n",
    "        if i not in b:\n",
    "            count=1\n",
    "            break\n",
    "        else:\n",
    "            pass\n",
    "    if count:\n",
    "        print('not a binary string')\n",
    "    else:\n",
    "        print('binary string')"
   ]
  },
  {
   "cell_type": "code",
   "execution_count": 132,
   "id": "8657ebf9",
   "metadata": {},
   "outputs": [
    {
     "name": "stdout",
     "output_type": "stream",
     "text": [
      "enter string 11002020020\n",
      "not a binary string\n"
     ]
    }
   ],
   "source": [
    "a=str(input('enter string '))\n",
    "is_binary(a)"
   ]
  },
  {
   "cell_type": "code",
   "execution_count": 133,
   "id": "ab43a3b1",
   "metadata": {},
   "outputs": [],
   "source": [
    "def is_binary_str(a):\n",
    "    b={'0','1'}\n",
    "    c=set(a)\n",
    "    if c==b or c=={'0'} or c=={'1'}:\n",
    "        print('is a binary string')\n",
    "    else:\n",
    "        print('not a binary string')"
   ]
  },
  {
   "cell_type": "code",
   "execution_count": 134,
   "id": "1ac3eb99",
   "metadata": {},
   "outputs": [
    {
     "name": "stdout",
     "output_type": "stream",
     "text": [
      "enter string 010101001010101\n",
      "is a binary string\n"
     ]
    }
   ],
   "source": [
    "a=str(input('enter string '))\n",
    "is_binary_str(a)"
   ]
  },
  {
   "cell_type": "markdown",
   "id": "ed8bc2fa",
   "metadata": {},
   "source": [
    "5. Write a Python program to find uncommon words from two Strings?"
   ]
  },
  {
   "cell_type": "code",
   "execution_count": 65,
   "id": "683c8ac8",
   "metadata": {},
   "outputs": [],
   "source": [
    "def find_uncomm_words(a,b):\n",
    "    'this function returns uncommon words in two strings'\n",
    "    c=a.split()\n",
    "    d=b.split()\n",
    "    l=''\n",
    "    for i in c:\n",
    "        if i not in d:\n",
    "            l=l+' '+i\n",
    "    for j in d:\n",
    "        if j not in c :\n",
    "            l=l+' '+j\n",
    "    return l     "
   ]
  },
  {
   "cell_type": "code",
   "execution_count": 66,
   "id": "58504fab",
   "metadata": {},
   "outputs": [
    {
     "name": "stdout",
     "output_type": "stream",
     "text": [
      "enter the string python is a case sensitive language\n",
      "enter the string python is a high level programming language\n",
      " case sensitive high level programming\n"
     ]
    }
   ],
   "source": [
    "a=str(input('enter the string '))\n",
    "b=str(input('enter the string '))\n",
    "print(find_uncomm_words(a,b))"
   ]
  },
  {
   "cell_type": "code",
   "execution_count": 67,
   "id": "a4c26059",
   "metadata": {},
   "outputs": [],
   "source": [
    "def find_uncomm_letters(a,b):\n",
    "    'this function returns uncommon letters in two words'\n",
    "    c=list(a)\n",
    "    d=list(b)\n",
    "    l=''\n",
    "    for i in c:\n",
    "        if i not in d:\n",
    "            l=l+' '+i\n",
    "    for j in d:\n",
    "        if j not in c :\n",
    "            l=l+' '+j\n",
    "    return l  "
   ]
  },
  {
   "cell_type": "code",
   "execution_count": 69,
   "id": "563a31ad",
   "metadata": {},
   "outputs": [
    {
     "name": "stdout",
     "output_type": "stream",
     "text": [
      "enter the string machine learning\n",
      "enter the string deep learning\n",
      " m c h d p\n"
     ]
    }
   ],
   "source": [
    "a=str(input('enter the string '))\n",
    "b=str(input('enter the string '))\n",
    "print(find_uncomm_letters(a,b))"
   ]
  },
  {
   "cell_type": "markdown",
   "id": "b797cee7",
   "metadata": {},
   "source": [
    "6. Write a Python to find all duplicate characters in string?"
   ]
  },
  {
   "cell_type": "code",
   "execution_count": 121,
   "id": "fdfcf5ea",
   "metadata": {},
   "outputs": [],
   "source": [
    "def dup_char(a):\n",
    "    for i in range(len(a)):\n",
    "        count=1\n",
    "        for j in range(i+1,len(a)):\n",
    "            if(a[i]==a[j] and a[i]!=' '):\n",
    "                count=count+1\n",
    "                a=a[:j]+' '+a[j+1:]\n",
    "        if(count>1 and a[i]!=' '):\n",
    "            print(a[i])\n",
    "    "
   ]
  },
  {
   "cell_type": "code",
   "execution_count": 127,
   "id": "ae5d41a0",
   "metadata": {},
   "outputs": [
    {
     "name": "stdout",
     "output_type": "stream",
     "text": [
      "enter the string Machine learning\n",
      "a\n",
      "i\n",
      "n\n",
      "e\n"
     ]
    }
   ],
   "source": [
    "b=str(input('enter the string '))\n",
    "dup_char(b)"
   ]
  },
  {
   "cell_type": "code",
   "execution_count": 122,
   "id": "3d3f5d03",
   "metadata": {},
   "outputs": [],
   "source": [
    "def dupli_char(a):\n",
    "    b=list(a)\n",
    "    l=''\n",
    "    for i in range(len(b)):\n",
    "        for j in range(i+1,len(b)):\n",
    "            if b[i]==b[j]:\n",
    "                l=l+b[i]\n",
    "    return ' '.join(map(str, set(l)))       "
   ]
  },
  {
   "cell_type": "code",
   "execution_count": 128,
   "id": "17548420",
   "metadata": {},
   "outputs": [
    {
     "name": "stdout",
     "output_type": "stream",
     "text": [
      "enter the string Machine learning\n",
      "n\n",
      " \n",
      "i\n",
      " \n",
      "a\n",
      " \n",
      "e\n"
     ]
    }
   ],
   "source": [
    "b=str(input('enter the string '))\n",
    "c=dupli_char(b)\n",
    "for i in c:\n",
    "    print (i)"
   ]
  },
  {
   "cell_type": "markdown",
   "id": "3441e5e8",
   "metadata": {},
   "source": [
    "7. Write a Python Program to check if a string contains any special character?"
   ]
  },
  {
   "cell_type": "code",
   "execution_count": 146,
   "id": "94c9551b",
   "metadata": {},
   "outputs": [],
   "source": [
    "def isstring_sp(a):\n",
    "    b=\"!#$%&'()*+,-./:;<=>?@[\\]^_`{|}~\"\n",
    "    count=0\n",
    "    for i in range(len(a)):\n",
    "        if a[i] in b:\n",
    "            count+=1\n",
    "    if count:\n",
    "        print('contains special characters')\n",
    "    else:\n",
    "        print('not contains any special characters')"
   ]
  },
  {
   "cell_type": "code",
   "execution_count": 147,
   "id": "97099c34",
   "metadata": {},
   "outputs": [
    {
     "name": "stdout",
     "output_type": "stream",
     "text": [
      "enter string learning fsds@ineuron \n",
      "contains special characters\n"
     ]
    }
   ],
   "source": [
    "a=str(input('enter string '))\n",
    "isstring_sp(a)"
   ]
  },
  {
   "cell_type": "code",
   "execution_count": null,
   "id": "abe99a2d",
   "metadata": {},
   "outputs": [],
   "source": []
  }
 ],
 "metadata": {
  "kernelspec": {
   "display_name": "Python 3 (ipykernel)",
   "language": "python",
   "name": "python3"
  },
  "language_info": {
   "codemirror_mode": {
    "name": "ipython",
    "version": 3
   },
   "file_extension": ".py",
   "mimetype": "text/x-python",
   "name": "python",
   "nbconvert_exporter": "python",
   "pygments_lexer": "ipython3",
   "version": "3.9.11"
  }
 },
 "nbformat": 4,
 "nbformat_minor": 5
}
