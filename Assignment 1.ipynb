{
 "cells": [
  {
   "cell_type": "markdown",
   "id": "fb1cd487",
   "metadata": {},
   "source": [
    "1) In the below elements which of them are values or an expression? eg:- values can be\n",
    "   integer or string and expressions will be mathematical operators.\n",
    "\n",
    "Ans) Expressions: *, -, /, +\n",
    "     Values: 'hello', -87.8, 6"
   ]
  },
  {
   "cell_type": "markdown",
   "id": "b2de0744",
   "metadata": {},
   "source": [
    "2) What is the difference between string and variable?\n",
    "\n",
    "Ans) A Variable is a store of data, and a String is a type of data you would store in a Variable.\n",
    "     A variable name must start with a letter or the underscore character while Strings always start and end with        quotes."
   ]
  },
  {
   "cell_type": "markdown",
   "id": "efb779fe",
   "metadata": {},
   "source": [
    "3) Describe three different data types?\n",
    "\n",
    "Ans) Numeric type : In Python, numeric data type represent the data which has numeric value. Numeric value can be integer, floating number or even complex numbers. These values are defined as int, float and complex class in Python.\n",
    "\n",
    "Sequence type : In Python, sequence is the ordered collection of similar or different data types. Sequences allows to store multiple values in an organized and efficient fashion. String, List, Tuple are sequence type datatypes.\n",
    "\n",
    "Boolean type : Data type with one of the two built-in values, True or False. Boolean objects that are equal to True are truthy (true), and those equal to False are falsy (false). True and False with capital ‘T’ and ‘F’ are valid booleans otherwise python will throw an error."
   ]
  },
  {
   "cell_type": "markdown",
   "id": "79e7d5f5",
   "metadata": {},
   "source": [
    "4) What is an expression made up of? What do all expressions do?\n",
    "\n",
    "Ans) An expression is a combination of values and operators and all expressions are evaluated to produce a single value as a result."
   ]
  },
  {
   "cell_type": "markdown",
   "id": "a93686d9",
   "metadata": {},
   "source": [
    "5) This assignment statements, like spam = 10. What is the difference between an\n",
    "   expression and a statement?\n",
    "   \n",
    "Ans) An expression is a combination of values and operators and is evaluated to a single value. A statement does something, like creating a variable or displaying a value, it only does whatever the statement says. "
   ]
  },
  {
   "cell_type": "markdown",
   "id": "093ccfdc",
   "metadata": {},
   "source": [
    "6) After running the following code, what does the variable bacon contain?\n",
    "   bacon = 22\n",
    "   bacon + 1\n",
    "\n",
    "Ans) The bacon variable is set to a value 22. The bacon + 1 expression evaluates to a value 23 but does not reassign the value in bacon as that would need an assignment statement like  bacon = bacon + 1 to reassign the value to bacon."
   ]
  },
  {
   "cell_type": "markdown",
   "id": "9e09baed",
   "metadata": {},
   "source": [
    "7) What should the values of the following two terms be?\n",
    "   'spam' + 'spamspam'\n",
    "   'spam' * 3\n",
    "   \n",
    "Ans) Both expressions evaluate to the same string 'spamspamspam'"
   ]
  },
  {
   "cell_type": "markdown",
   "id": "ee3e3a03",
   "metadata": {},
   "source": [
    "8) Why is eggs a valid variable name while 100 is invalid?\n",
    "\n",
    "Ans) A variable name must start with a letter or the underscore character but not with a number."
   ]
  },
  {
   "cell_type": "markdown",
   "id": "8932140f",
   "metadata": {},
   "source": [
    "9) What three functions can be used to get the integer, floating-point number, or string\n",
    "   version of a value?\n",
    "   \n",
    "Ans) The int(), float(), and str() functions will evaluate to the integer, floating-point number, and string versions of the value passed to them."
   ]
  },
  {
   "cell_type": "markdown",
   "id": "1dff030f",
   "metadata": {},
   "source": [
    "10) Why does this expression cause an error? How can you fix it?\n",
    "    'I have eaten' + 99 +  'burritos.'\n",
    "\n",
    "Ans) The expression causes an error because 99 is an integer, and only strings can be concatenated to other strings with the + operator. The correct way is I have eaten ' + str(99) + ' burritos.' and you can also write like 'I have eaten' + ' 99 ' +  'burritos.'"
   ]
  },
  {
   "cell_type": "code",
   "execution_count": null,
   "id": "a8ad647d",
   "metadata": {},
   "outputs": [],
   "source": []
  }
 ],
 "metadata": {
  "kernelspec": {
   "display_name": "Python 3 (ipykernel)",
   "language": "python",
   "name": "python3"
  },
  "language_info": {
   "codemirror_mode": {
    "name": "ipython",
    "version": 3
   },
   "file_extension": ".py",
   "mimetype": "text/x-python",
   "name": "python",
   "nbconvert_exporter": "python",
   "pygments_lexer": "ipython3",
   "version": "3.9.10"
  }
 },
 "nbformat": 4,
 "nbformat_minor": 5
}
