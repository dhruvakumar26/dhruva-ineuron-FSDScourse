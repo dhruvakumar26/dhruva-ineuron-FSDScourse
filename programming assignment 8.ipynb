{
 "cells": [
  {
   "cell_type": "markdown",
   "id": "3ed5c3fc",
   "metadata": {},
   "source": [
    "1. Write a Python Program to Add Two Matrices?"
   ]
  },
  {
   "cell_type": "code",
   "execution_count": 1,
   "id": "dc52d270",
   "metadata": {},
   "outputs": [
    {
     "name": "stdout",
     "output_type": "stream",
     "text": [
      "[12, 4, 36]\n",
      "[47, 9, 10]\n",
      "[37, 59, 10]\n"
     ]
    }
   ],
   "source": [
    "x=[[1,2,3],\n",
    "   [45,6,6],\n",
    "   [3,4,5]]\n",
    "y=[[11,2,33],\n",
    "   [2,3,4],\n",
    "   [34,55,5]]\n",
    "result = [[0,0,0],\n",
    "         [0,0,0],\n",
    "         [0,0,0]]\n",
    "for i in range(len(x)):\n",
    "    for j in range(len(x[0])):\n",
    "        result[i][j]=x[i][j]+y[i][j]\n",
    "for k in result:\n",
    "    print(k)"
   ]
  },
  {
   "cell_type": "code",
   "execution_count": 2,
   "id": "9c1ca1ca",
   "metadata": {},
   "outputs": [
    {
     "name": "stdout",
     "output_type": "stream",
     "text": [
      "[[ 2  4  6]\n",
      " [ 6  8 10]\n",
      " [ 6 90 10]\n",
      " [ 8 10 12]]\n"
     ]
    }
   ],
   "source": [
    "import numpy as np\n",
    "a = np.array([[1, 2,3], [3, 4,5],[3,45,5],[4,5,6]])\n",
    "b = np.array([[1, 2,3], [3, 4,5],[3,45,5],[4,5,6]])\n",
    "c=np.add(a,b)\n",
    "print(c)"
   ]
  },
  {
   "cell_type": "markdown",
   "id": "4f0f96b5",
   "metadata": {},
   "source": [
    "2. Write a Python Program to Multiply Two Matrices?"
   ]
  },
  {
   "cell_type": "code",
   "execution_count": 4,
   "id": "51daf7d6",
   "metadata": {},
   "outputs": [
    {
     "name": "stdout",
     "output_type": "stream",
     "text": [
      "[53, 66, 48]\n",
      "[104, 117, 99]\n",
      "[59, 72, 54]\n"
     ]
    }
   ],
   "source": [
    "x=[[1,2,3],\n",
    "   [45,6,6],\n",
    "   [3,4,5]]\n",
    "y=[[11,2,33],\n",
    "   [2,3,4],\n",
    "   [34,55,5]]\n",
    "result = [[0,0,0],\n",
    "         [0,0,0],\n",
    "         [0,0,0]]\n",
    "\n",
    "for i in range(len(x)):\n",
    "    for j in range(len(y[0])):\n",
    "        for k in range(len(y)):\n",
    "            result[i][j]+=x[i][k]+y[k][j]\n",
    "for r in result:\n",
    "    print(r)"
   ]
  },
  {
   "cell_type": "code",
   "execution_count": 5,
   "id": "be106e5c",
   "metadata": {},
   "outputs": [
    {
     "name": "stdout",
     "output_type": "stream",
     "text": [
      "[[ 16 145  28]\n",
      " [ 30 247  54]\n",
      " [153 411 259]]\n"
     ]
    }
   ],
   "source": [
    "import numpy as np\n",
    "a = np.array([[1, 2,3], [3, 4,5],[3,45,5]])\n",
    "b = np.array([[1, 2,3], [3, 4,5],[3,45,5]])\n",
    "c=np.dot(a,b)\n",
    "print(c)"
   ]
  },
  {
   "cell_type": "markdown",
   "id": "aa6746ef",
   "metadata": {},
   "source": [
    "3. Write a Python Program to Transpose a Matrix"
   ]
  },
  {
   "cell_type": "code",
   "execution_count": 6,
   "id": "e8acb58b",
   "metadata": {},
   "outputs": [
    {
     "name": "stdout",
     "output_type": "stream",
     "text": [
      "[1, 45, 3, 2]\n",
      "[2, 6, 4, 3]\n",
      "[3, 6, 5, 4]\n"
     ]
    }
   ],
   "source": [
    "x=[[1,2,3],\n",
    "   [45,6,6],\n",
    "   [3,4,5],\n",
    "   [2,3,4]]\n",
    "result = [[0,0,0,0],\n",
    "         [0,0,0,0],\n",
    "         [0,0,0,0]]\n",
    "for i in range(len(x)):\n",
    "    for j in range(len(x[0])):\n",
    "        result[j][i]=x[i][j]\n",
    "for k in result:\n",
    "    print(k)"
   ]
  },
  {
   "cell_type": "code",
   "execution_count": 7,
   "id": "e5db5b82",
   "metadata": {},
   "outputs": [
    {
     "name": "stdout",
     "output_type": "stream",
     "text": [
      "[[ 1  3  3  4]\n",
      " [ 2  4 45  5]\n",
      " [ 3  5  5  6]]\n"
     ]
    }
   ],
   "source": [
    "import numpy as np\n",
    "a = np.array([[1, 2,3], [3, 4,5],[3,45,5],[4,5,6]])\n",
    "print(a.transpose())"
   ]
  },
  {
   "cell_type": "markdown",
   "id": "46079070",
   "metadata": {},
   "source": [
    "4. Write a Python Program to Sort Words in Alphabetic Order?"
   ]
  },
  {
   "cell_type": "code",
   "execution_count": 8,
   "id": "a013f7bb",
   "metadata": {},
   "outputs": [],
   "source": [
    "def alphabetical_sorting(l):\n",
    "    word=l.split(' ')\n",
    "    word.sort()\n",
    "    return word"
   ]
  },
  {
   "cell_type": "code",
   "execution_count": 9,
   "id": "c4be0e38",
   "metadata": {},
   "outputs": [
    {
     "name": "stdout",
     "output_type": "stream",
     "text": [
      "enter stringthe cat is cute\n"
     ]
    }
   ],
   "source": [
    "n=str(input('enter string'))"
   ]
  },
  {
   "cell_type": "code",
   "execution_count": 10,
   "id": "cdfe949c",
   "metadata": {},
   "outputs": [
    {
     "name": "stdout",
     "output_type": "stream",
     "text": [
      "['cat', 'cute', 'is', 'the']\n"
     ]
    }
   ],
   "source": [
    "print(alphabetical_sorting(n))"
   ]
  },
  {
   "cell_type": "markdown",
   "id": "66ffb119",
   "metadata": {},
   "source": [
    "5. Write a Python Program to Remove Punctuation From a String?"
   ]
  },
  {
   "cell_type": "code",
   "execution_count": 11,
   "id": "a295a415",
   "metadata": {},
   "outputs": [],
   "source": [
    "def puncutation_remover(l):\n",
    "    punctuations = '''!()-[]{};:'\"\\,<>./?@#$%^&*_~'''\n",
    "    result=' '\n",
    "    for i in l:\n",
    "        if i not in punctuations:\n",
    "            result+=i\n",
    "    return result"
   ]
  },
  {
   "cell_type": "code",
   "execution_count": 12,
   "id": "a92cb847",
   "metadata": {},
   "outputs": [
    {
     "name": "stdout",
     "output_type": "stream",
     "text": [
      "enter stringis the cat cute? yes it is!\n"
     ]
    }
   ],
   "source": [
    "l=str(input('enter string'))"
   ]
  },
  {
   "cell_type": "code",
   "execution_count": 13,
   "id": "8bfad742",
   "metadata": {},
   "outputs": [
    {
     "name": "stdout",
     "output_type": "stream",
     "text": [
      " is the cat cute yes it is\n"
     ]
    }
   ],
   "source": [
    "print(puncutation_remover(l))"
   ]
  },
  {
   "cell_type": "code",
   "execution_count": null,
   "id": "87cfb455",
   "metadata": {},
   "outputs": [],
   "source": []
  }
 ],
 "metadata": {
  "kernelspec": {
   "display_name": "Python 3.9 (tensorflow)",
   "language": "python",
   "name": "tensorflow"
  },
  "language_info": {
   "codemirror_mode": {
    "name": "ipython",
    "version": 3
   },
   "file_extension": ".py",
   "mimetype": "text/x-python",
   "name": "python",
   "nbconvert_exporter": "python",
   "pygments_lexer": "ipython3",
   "version": "3.9.11"
  }
 },
 "nbformat": 4,
 "nbformat_minor": 5
}
